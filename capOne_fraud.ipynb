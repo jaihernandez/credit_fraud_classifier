{
 "cells": [
  {
   "cell_type": "markdown",
   "metadata": {},
   "source": [
    "# Capital One Assessment"
   ]
  },
  {
   "cell_type": "markdown",
   "metadata": {},
   "source": [
    "## Clone repo with data and extract zip"
   ]
  },
  {
   "cell_type": "markdown",
   "metadata": {},
   "source": [
    "On terminal:\n",
    "\n",
    "git clone https://github.com/CapitalOneRecruiting/DS"
   ]
  },
  {
   "cell_type": "code",
   "execution_count": 240,
   "metadata": {},
   "outputs": [],
   "source": [
    "zip_path = \"DS/\"\n",
    "file_name = \"transactions.zip\""
   ]
  },
  {
   "cell_type": "markdown",
   "metadata": {},
   "source": [
    "Run the following code to unzip if needed:"
   ]
  },
  {
   "cell_type": "code",
   "execution_count": 241,
   "metadata": {},
   "outputs": [],
   "source": [
    "# import zipfile\n",
    "# with zipfile.ZipFile(zip_path+file_name, 'r') as zip_ref:\n",
    "#     zip_ref.extractall(zip_path)"
   ]
  },
  {
   "cell_type": "markdown",
   "metadata": {},
   "source": [
    "## Explore Data"
   ]
  },
  {
   "cell_type": "code",
   "execution_count": 242,
   "metadata": {},
   "outputs": [],
   "source": [
    "import json\n",
    "import pandas as pd\n",
    "import numpy as np\n",
    "import matplotlib.pyplot as plt\n",
    "import time\n",
    "\n",
    "SEED = 10"
   ]
  },
  {
   "cell_type": "code",
   "execution_count": 243,
   "metadata": {},
   "outputs": [],
   "source": [
    "data = []\n",
    "for line in open(zip_path + 'transactions.txt', 'r'):\n",
    "    data.append(json.loads(line))"
   ]
  },
  {
   "cell_type": "code",
   "execution_count": 244,
   "metadata": {},
   "outputs": [
    {
     "name": "stdout",
     "output_type": "stream",
     "text": [
      "Number of records: 786363\n"
     ]
    }
   ],
   "source": [
    "print(\"Number of records: {}\".format(len(data)))"
   ]
  },
  {
   "cell_type": "code",
   "execution_count": 245,
   "metadata": {},
   "outputs": [
    {
     "name": "stdout",
     "output_type": "stream",
     "text": [
      "Data shape (786363, 29)\n"
     ]
    },
    {
     "data": {
      "text/html": [
       "<div>\n",
       "<style scoped>\n",
       "    .dataframe tbody tr th:only-of-type {\n",
       "        vertical-align: middle;\n",
       "    }\n",
       "\n",
       "    .dataframe tbody tr th {\n",
       "        vertical-align: top;\n",
       "    }\n",
       "\n",
       "    .dataframe thead th {\n",
       "        text-align: right;\n",
       "    }\n",
       "</style>\n",
       "<table border=\"1\" class=\"dataframe\">\n",
       "  <thead>\n",
       "    <tr style=\"text-align: right;\">\n",
       "      <th></th>\n",
       "      <th>accountNumber</th>\n",
       "      <th>customerId</th>\n",
       "      <th>creditLimit</th>\n",
       "      <th>availableMoney</th>\n",
       "      <th>transactionDateTime</th>\n",
       "      <th>transactionAmount</th>\n",
       "      <th>merchantName</th>\n",
       "      <th>acqCountry</th>\n",
       "      <th>merchantCountryCode</th>\n",
       "      <th>posEntryMode</th>\n",
       "      <th>...</th>\n",
       "      <th>echoBuffer</th>\n",
       "      <th>currentBalance</th>\n",
       "      <th>merchantCity</th>\n",
       "      <th>merchantState</th>\n",
       "      <th>merchantZip</th>\n",
       "      <th>cardPresent</th>\n",
       "      <th>posOnPremises</th>\n",
       "      <th>recurringAuthInd</th>\n",
       "      <th>expirationDateKeyInMatch</th>\n",
       "      <th>isFraud</th>\n",
       "    </tr>\n",
       "  </thead>\n",
       "  <tbody>\n",
       "    <tr>\n",
       "      <th>0</th>\n",
       "      <td>737265056</td>\n",
       "      <td>737265056</td>\n",
       "      <td>5000.0</td>\n",
       "      <td>5000.00</td>\n",
       "      <td>2016-08-13T14:27:32</td>\n",
       "      <td>98.55</td>\n",
       "      <td>Uber</td>\n",
       "      <td>US</td>\n",
       "      <td>US</td>\n",
       "      <td>02</td>\n",
       "      <td>...</td>\n",
       "      <td></td>\n",
       "      <td>0.00</td>\n",
       "      <td></td>\n",
       "      <td></td>\n",
       "      <td></td>\n",
       "      <td>False</td>\n",
       "      <td></td>\n",
       "      <td></td>\n",
       "      <td>False</td>\n",
       "      <td>False</td>\n",
       "    </tr>\n",
       "    <tr>\n",
       "      <th>1</th>\n",
       "      <td>737265056</td>\n",
       "      <td>737265056</td>\n",
       "      <td>5000.0</td>\n",
       "      <td>5000.00</td>\n",
       "      <td>2016-10-11T05:05:54</td>\n",
       "      <td>74.51</td>\n",
       "      <td>AMC #191138</td>\n",
       "      <td>US</td>\n",
       "      <td>US</td>\n",
       "      <td>09</td>\n",
       "      <td>...</td>\n",
       "      <td></td>\n",
       "      <td>0.00</td>\n",
       "      <td></td>\n",
       "      <td></td>\n",
       "      <td></td>\n",
       "      <td>True</td>\n",
       "      <td></td>\n",
       "      <td></td>\n",
       "      <td>False</td>\n",
       "      <td>False</td>\n",
       "    </tr>\n",
       "    <tr>\n",
       "      <th>2</th>\n",
       "      <td>737265056</td>\n",
       "      <td>737265056</td>\n",
       "      <td>5000.0</td>\n",
       "      <td>5000.00</td>\n",
       "      <td>2016-11-08T09:18:39</td>\n",
       "      <td>7.47</td>\n",
       "      <td>Play Store</td>\n",
       "      <td>US</td>\n",
       "      <td>US</td>\n",
       "      <td>09</td>\n",
       "      <td>...</td>\n",
       "      <td></td>\n",
       "      <td>0.00</td>\n",
       "      <td></td>\n",
       "      <td></td>\n",
       "      <td></td>\n",
       "      <td>False</td>\n",
       "      <td></td>\n",
       "      <td></td>\n",
       "      <td>False</td>\n",
       "      <td>False</td>\n",
       "    </tr>\n",
       "    <tr>\n",
       "      <th>3</th>\n",
       "      <td>737265056</td>\n",
       "      <td>737265056</td>\n",
       "      <td>5000.0</td>\n",
       "      <td>5000.00</td>\n",
       "      <td>2016-12-10T02:14:50</td>\n",
       "      <td>7.47</td>\n",
       "      <td>Play Store</td>\n",
       "      <td>US</td>\n",
       "      <td>US</td>\n",
       "      <td>09</td>\n",
       "      <td>...</td>\n",
       "      <td></td>\n",
       "      <td>0.00</td>\n",
       "      <td></td>\n",
       "      <td></td>\n",
       "      <td></td>\n",
       "      <td>False</td>\n",
       "      <td></td>\n",
       "      <td></td>\n",
       "      <td>False</td>\n",
       "      <td>False</td>\n",
       "    </tr>\n",
       "    <tr>\n",
       "      <th>4</th>\n",
       "      <td>830329091</td>\n",
       "      <td>830329091</td>\n",
       "      <td>5000.0</td>\n",
       "      <td>5000.00</td>\n",
       "      <td>2016-03-24T21:04:46</td>\n",
       "      <td>71.18</td>\n",
       "      <td>Tim Hortons #947751</td>\n",
       "      <td>US</td>\n",
       "      <td>US</td>\n",
       "      <td>02</td>\n",
       "      <td>...</td>\n",
       "      <td></td>\n",
       "      <td>0.00</td>\n",
       "      <td></td>\n",
       "      <td></td>\n",
       "      <td></td>\n",
       "      <td>True</td>\n",
       "      <td></td>\n",
       "      <td></td>\n",
       "      <td>False</td>\n",
       "      <td>False</td>\n",
       "    </tr>\n",
       "    <tr>\n",
       "      <th>5</th>\n",
       "      <td>830329091</td>\n",
       "      <td>830329091</td>\n",
       "      <td>5000.0</td>\n",
       "      <td>5000.00</td>\n",
       "      <td>2016-04-19T16:24:27</td>\n",
       "      <td>30.76</td>\n",
       "      <td>In-N-Out #422833</td>\n",
       "      <td>US</td>\n",
       "      <td>US</td>\n",
       "      <td>02</td>\n",
       "      <td>...</td>\n",
       "      <td></td>\n",
       "      <td>0.00</td>\n",
       "      <td></td>\n",
       "      <td></td>\n",
       "      <td></td>\n",
       "      <td>True</td>\n",
       "      <td></td>\n",
       "      <td></td>\n",
       "      <td>False</td>\n",
       "      <td>False</td>\n",
       "    </tr>\n",
       "    <tr>\n",
       "      <th>6</th>\n",
       "      <td>830329091</td>\n",
       "      <td>830329091</td>\n",
       "      <td>5000.0</td>\n",
       "      <td>5000.00</td>\n",
       "      <td>2016-05-21T14:50:35</td>\n",
       "      <td>57.28</td>\n",
       "      <td>Krispy Kreme #685312</td>\n",
       "      <td>US</td>\n",
       "      <td>US</td>\n",
       "      <td>02</td>\n",
       "      <td>...</td>\n",
       "      <td></td>\n",
       "      <td>0.00</td>\n",
       "      <td></td>\n",
       "      <td></td>\n",
       "      <td></td>\n",
       "      <td>True</td>\n",
       "      <td></td>\n",
       "      <td></td>\n",
       "      <td>False</td>\n",
       "      <td>False</td>\n",
       "    </tr>\n",
       "    <tr>\n",
       "      <th>7</th>\n",
       "      <td>830329091</td>\n",
       "      <td>830329091</td>\n",
       "      <td>5000.0</td>\n",
       "      <td>5000.00</td>\n",
       "      <td>2016-06-03T00:31:21</td>\n",
       "      <td>9.37</td>\n",
       "      <td>Shake Shack #968081</td>\n",
       "      <td>US</td>\n",
       "      <td>US</td>\n",
       "      <td>05</td>\n",
       "      <td>...</td>\n",
       "      <td></td>\n",
       "      <td>0.00</td>\n",
       "      <td></td>\n",
       "      <td></td>\n",
       "      <td></td>\n",
       "      <td>True</td>\n",
       "      <td></td>\n",
       "      <td></td>\n",
       "      <td>False</td>\n",
       "      <td>False</td>\n",
       "    </tr>\n",
       "    <tr>\n",
       "      <th>8</th>\n",
       "      <td>830329091</td>\n",
       "      <td>830329091</td>\n",
       "      <td>5000.0</td>\n",
       "      <td>4990.63</td>\n",
       "      <td>2016-06-10T01:21:46</td>\n",
       "      <td>523.67</td>\n",
       "      <td>Burger King #486122</td>\n",
       "      <td></td>\n",
       "      <td>US</td>\n",
       "      <td>02</td>\n",
       "      <td>...</td>\n",
       "      <td></td>\n",
       "      <td>9.37</td>\n",
       "      <td></td>\n",
       "      <td></td>\n",
       "      <td></td>\n",
       "      <td>True</td>\n",
       "      <td></td>\n",
       "      <td></td>\n",
       "      <td>False</td>\n",
       "      <td>False</td>\n",
       "    </tr>\n",
       "    <tr>\n",
       "      <th>9</th>\n",
       "      <td>830329091</td>\n",
       "      <td>830329091</td>\n",
       "      <td>5000.0</td>\n",
       "      <td>5000.00</td>\n",
       "      <td>2016-07-11T10:47:16</td>\n",
       "      <td>164.37</td>\n",
       "      <td>Five Guys #510989</td>\n",
       "      <td>US</td>\n",
       "      <td>US</td>\n",
       "      <td>05</td>\n",
       "      <td>...</td>\n",
       "      <td></td>\n",
       "      <td>0.00</td>\n",
       "      <td></td>\n",
       "      <td></td>\n",
       "      <td></td>\n",
       "      <td>True</td>\n",
       "      <td></td>\n",
       "      <td></td>\n",
       "      <td>False</td>\n",
       "      <td>False</td>\n",
       "    </tr>\n",
       "  </tbody>\n",
       "</table>\n",
       "<p>10 rows × 29 columns</p>\n",
       "</div>"
      ],
      "text/plain": [
       "  accountNumber customerId  creditLimit  availableMoney  transactionDateTime  \\\n",
       "0     737265056  737265056       5000.0         5000.00  2016-08-13T14:27:32   \n",
       "1     737265056  737265056       5000.0         5000.00  2016-10-11T05:05:54   \n",
       "2     737265056  737265056       5000.0         5000.00  2016-11-08T09:18:39   \n",
       "3     737265056  737265056       5000.0         5000.00  2016-12-10T02:14:50   \n",
       "4     830329091  830329091       5000.0         5000.00  2016-03-24T21:04:46   \n",
       "5     830329091  830329091       5000.0         5000.00  2016-04-19T16:24:27   \n",
       "6     830329091  830329091       5000.0         5000.00  2016-05-21T14:50:35   \n",
       "7     830329091  830329091       5000.0         5000.00  2016-06-03T00:31:21   \n",
       "8     830329091  830329091       5000.0         4990.63  2016-06-10T01:21:46   \n",
       "9     830329091  830329091       5000.0         5000.00  2016-07-11T10:47:16   \n",
       "\n",
       "   transactionAmount          merchantName acqCountry merchantCountryCode  \\\n",
       "0              98.55                  Uber         US                  US   \n",
       "1              74.51           AMC #191138         US                  US   \n",
       "2               7.47            Play Store         US                  US   \n",
       "3               7.47            Play Store         US                  US   \n",
       "4              71.18   Tim Hortons #947751         US                  US   \n",
       "5              30.76      In-N-Out #422833         US                  US   \n",
       "6              57.28  Krispy Kreme #685312         US                  US   \n",
       "7               9.37   Shake Shack #968081         US                  US   \n",
       "8             523.67   Burger King #486122                             US   \n",
       "9             164.37     Five Guys #510989         US                  US   \n",
       "\n",
       "  posEntryMode  ... echoBuffer currentBalance merchantCity merchantState  \\\n",
       "0           02  ...                      0.00                              \n",
       "1           09  ...                      0.00                              \n",
       "2           09  ...                      0.00                              \n",
       "3           09  ...                      0.00                              \n",
       "4           02  ...                      0.00                              \n",
       "5           02  ...                      0.00                              \n",
       "6           02  ...                      0.00                              \n",
       "7           05  ...                      0.00                              \n",
       "8           02  ...                      9.37                              \n",
       "9           05  ...                      0.00                              \n",
       "\n",
       "  merchantZip cardPresent posOnPremises recurringAuthInd  \\\n",
       "0                   False                                  \n",
       "1                    True                                  \n",
       "2                   False                                  \n",
       "3                   False                                  \n",
       "4                    True                                  \n",
       "5                    True                                  \n",
       "6                    True                                  \n",
       "7                    True                                  \n",
       "8                    True                                  \n",
       "9                    True                                  \n",
       "\n",
       "  expirationDateKeyInMatch isFraud  \n",
       "0                    False   False  \n",
       "1                    False   False  \n",
       "2                    False   False  \n",
       "3                    False   False  \n",
       "4                    False   False  \n",
       "5                    False   False  \n",
       "6                    False   False  \n",
       "7                    False   False  \n",
       "8                    False   False  \n",
       "9                    False   False  \n",
       "\n",
       "[10 rows x 29 columns]"
      ]
     },
     "execution_count": 245,
     "metadata": {},
     "output_type": "execute_result"
    }
   ],
   "source": [
    "raw_df = pd.DataFrame(data)\n",
    "\n",
    "print(\"Data shape {}\".format(raw_df.shape))\n",
    "raw_df.head(10)"
   ]
  },
  {
   "cell_type": "markdown",
   "metadata": {},
   "source": [
    "- Given that missing values are represented as missing strings, these are being replaced with np.nan in order to differentiate them better"
   ]
  },
  {
   "cell_type": "markdown",
   "metadata": {},
   "source": [
    "### Missing Values"
   ]
  },
  {
   "cell_type": "code",
   "execution_count": 246,
   "metadata": {},
   "outputs": [],
   "source": [
    "raw_df = raw_df.replace('', np.nan)"
   ]
  },
  {
   "cell_type": "code",
   "execution_count": 247,
   "metadata": {},
   "outputs": [
    {
     "name": "stdout",
     "output_type": "stream",
     "text": [
      "Missing Values in data:\n",
      "\n"
     ]
    },
    {
     "data": {
      "text/plain": [
       "acqCountry               4562\n",
       "merchantCountryCode       724\n",
       "posEntryMode             4054\n",
       "posConditionCode          409\n",
       "transactionType           698\n",
       "echoBuffer             786363\n",
       "merchantCity           786363\n",
       "merchantState          786363\n",
       "merchantZip            786363\n",
       "posOnPremises          786363\n",
       "recurringAuthInd       786363\n",
       "dtype: int64"
      ]
     },
     "execution_count": 247,
     "metadata": {},
     "output_type": "execute_result"
    }
   ],
   "source": [
    "count_nan = len(raw_df) - raw_df.count()\n",
    "print(\"Missing Values in data:\\n\")\n",
    "count_nan[count_nan > 0]"
   ]
  },
  {
   "cell_type": "markdown",
   "metadata": {},
   "source": [
    "- It looks like many there are columns with some missing values and others that are completely missing"
   ]
  },
  {
   "cell_type": "code",
   "execution_count": 248,
   "metadata": {},
   "outputs": [
    {
     "name": "stdout",
     "output_type": "stream",
     "text": [
      "Columns with all values missing:\n",
      "\n"
     ]
    },
    {
     "data": {
      "text/plain": [
       "echoBuffer          786363\n",
       "merchantCity        786363\n",
       "merchantState       786363\n",
       "merchantZip         786363\n",
       "posOnPremises       786363\n",
       "recurringAuthInd    786363\n",
       "dtype: int64"
      ]
     },
     "execution_count": 248,
     "metadata": {},
     "output_type": "execute_result"
    }
   ],
   "source": [
    "all_missing = count_nan[count_nan == 786363]\n",
    "print(\"Columns with all values missing:\\n\")\n",
    "all_missing"
   ]
  },
  {
   "cell_type": "markdown",
   "metadata": {},
   "source": [
    "- These columns will not contribute to analysis/modeling as they are missing so, they will be removed."
   ]
  },
  {
   "cell_type": "code",
   "execution_count": 249,
   "metadata": {},
   "outputs": [],
   "source": [
    "raw_df.drop(all_missing.index, axis=1, inplace=True)\n"
   ]
  },
  {
   "cell_type": "code",
   "execution_count": 250,
   "metadata": {},
   "outputs": [
    {
     "data": {
      "text/plain": [
       "acqCountry             4562\n",
       "merchantCountryCode     724\n",
       "posEntryMode           4054\n",
       "posConditionCode        409\n",
       "transactionType         698\n",
       "dtype: int64"
      ]
     },
     "execution_count": 250,
     "metadata": {},
     "output_type": "execute_result"
    }
   ],
   "source": [
    "some_missing_cols = count_nan[(count_nan > 0) & (count_nan < 786363)]\n",
    "some_missing_cols"
   ]
  },
  {
   "cell_type": "code",
   "execution_count": 251,
   "metadata": {},
   "outputs": [
    {
     "name": "stdout",
     "output_type": "stream",
     "text": [
      "Dataframe Info:\n",
      "\n",
      "<class 'pandas.core.frame.DataFrame'>\n",
      "RangeIndex: 786363 entries, 0 to 786362\n",
      "Data columns (total 23 columns):\n",
      " #   Column                    Non-Null Count   Dtype  \n",
      "---  ------                    --------------   -----  \n",
      " 0   accountNumber             786363 non-null  object \n",
      " 1   customerId                786363 non-null  object \n",
      " 2   creditLimit               786363 non-null  float64\n",
      " 3   availableMoney            786363 non-null  float64\n",
      " 4   transactionDateTime       786363 non-null  object \n",
      " 5   transactionAmount         786363 non-null  float64\n",
      " 6   merchantName              786363 non-null  object \n",
      " 7   acqCountry                781801 non-null  object \n",
      " 8   merchantCountryCode       785639 non-null  object \n",
      " 9   posEntryMode              782309 non-null  object \n",
      " 10  posConditionCode          785954 non-null  object \n",
      " 11  merchantCategoryCode      786363 non-null  object \n",
      " 12  currentExpDate            786363 non-null  object \n",
      " 13  accountOpenDate           786363 non-null  object \n",
      " 14  dateOfLastAddressChange   786363 non-null  object \n",
      " 15  cardCVV                   786363 non-null  object \n",
      " 16  enteredCVV                786363 non-null  object \n",
      " 17  cardLast4Digits           786363 non-null  object \n",
      " 18  transactionType           785665 non-null  object \n",
      " 19  currentBalance            786363 non-null  float64\n",
      " 20  cardPresent               786363 non-null  bool   \n",
      " 21  expirationDateKeyInMatch  786363 non-null  bool   \n",
      " 22  isFraud                   786363 non-null  bool   \n",
      "dtypes: bool(3), float64(4), object(16)\n",
      "memory usage: 122.2+ MB\n"
     ]
    }
   ],
   "source": [
    "print(\"Dataframe Info:\\n\")\n",
    "raw_df.info(verbose = True)"
   ]
  },
  {
   "cell_type": "markdown",
   "metadata": {},
   "source": [
    "- There's a few floats and bool columns. Most of them are object which could mean that they are categorical."
   ]
  },
  {
   "cell_type": "markdown",
   "metadata": {},
   "source": [
    "### Data types and understanding categorical columns"
   ]
  },
  {
   "cell_type": "markdown",
   "metadata": {},
   "source": [
    "Changing booleans to 1 or 0"
   ]
  },
  {
   "cell_type": "code",
   "execution_count": 252,
   "metadata": {},
   "outputs": [],
   "source": [
    "raw_df.replace({ False : 0, True : 1}, inplace = True)"
   ]
  },
  {
   "cell_type": "code",
   "execution_count": 253,
   "metadata": {},
   "outputs": [
    {
     "name": "stdout",
     "output_type": "stream",
     "text": [
      "Number of unique values per colum:\n",
      "\n",
      "accountNumber                 5000\n",
      "customerId                    5000\n",
      "creditLimit                     10\n",
      "availableMoney              521916\n",
      "transactionDateTime         776637\n",
      "transactionAmount            66038\n",
      "merchantName                  2490\n",
      "acqCountry                       4\n",
      "merchantCountryCode              4\n",
      "posEntryMode                     5\n",
      "posConditionCode                 3\n",
      "merchantCategoryCode            19\n",
      "currentExpDate                 165\n",
      "accountOpenDate               1820\n",
      "dateOfLastAddressChange       2184\n",
      "cardCVV                        899\n",
      "enteredCVV                     976\n",
      "cardLast4Digits               5246\n",
      "transactionType                  3\n",
      "currentBalance              487318\n",
      "cardPresent                      2\n",
      "expirationDateKeyInMatch         2\n",
      "isFraud                          2\n",
      "dtype: int64\n"
     ]
    }
   ],
   "source": [
    "print(\"Number of unique values per colum:\\n\")\n",
    "\n",
    "with pd.option_context('display.max_rows', None):\n",
    "    print(raw_df.apply(pd.Series.nunique))"
   ]
  },
  {
   "cell_type": "markdown",
   "metadata": {},
   "source": [
    "- It looks like the floats and bool columns align with the unique values per column observed.\n",
    "- There are many dates in each of the date columns (e.g., transactionDateTime, accountOpenDate) which makes me think these are dates that will just need to be converted into datetime.\n",
    "- The card identifier columns are type oject as well. \n",
    "- As for the rest of the object columns, they appear to be categorical features - they have a few unique values. "
   ]
  },
  {
   "cell_type": "code",
   "execution_count": 254,
   "metadata": {},
   "outputs": [
    {
     "data": {
      "text/plain": [
       "1.0"
      ]
     },
     "execution_count": 254,
     "metadata": {},
     "output_type": "execute_result"
    }
   ],
   "source": [
    "np.where(raw_df['accountNumber'] == raw_df['customerId'], 1, 0).mean()"
   ]
  },
  {
   "cell_type": "markdown",
   "metadata": {},
   "source": [
    "- customerId is always the same as accountNumber"
   ]
  },
  {
   "cell_type": "code",
   "execution_count": 255,
   "metadata": {},
   "outputs": [
    {
     "data": {
      "text/plain": [
       "[]"
      ]
     },
     "execution_count": 255,
     "metadata": {},
     "output_type": "execute_result"
    },
    {
     "data": {
      "image/png": "[encoded data removed]",
      "text/plain": [
       "<Figure size 432x288 with 1 Axes>"
      ]
     },
     "metadata": {
      "needs_background": "light"
     },
     "output_type": "display_data"
    }
   ],
   "source": [
    "ax = raw_df.groupby('customerId')['customerId'].count().hist(bins = 100)\n",
    "\n",
    "ax.set_title('Transactions/Customer Histogram')\n",
    "\n",
    "ax.set_ylabel(\"Frequency\")\n",
    "\n",
    "ax.plot()"
   ]
  },
  {
   "cell_type": "markdown",
   "metadata": {},
   "source": [
    "- This is a skewed distribution where most customerIds have a few transactions and a few of the customerIds have most of the transactions"
   ]
  },
  {
   "cell_type": "code",
   "execution_count": 256,
   "metadata": {},
   "outputs": [
    {
     "data": {
      "text/html": [
       "<div>\n",
       "<style scoped>\n",
       "    .dataframe tbody tr th:only-of-type {\n",
       "        vertical-align: middle;\n",
       "    }\n",
       "\n",
       "    .dataframe tbody tr th {\n",
       "        vertical-align: top;\n",
       "    }\n",
       "\n",
       "    .dataframe thead th {\n",
       "        text-align: right;\n",
       "    }\n",
       "</style>\n",
       "<table border=\"1\" class=\"dataframe\">\n",
       "  <thead>\n",
       "    <tr style=\"text-align: right;\">\n",
       "      <th>transactionType</th>\n",
       "      <th>ADDRESS_VERIFICATION</th>\n",
       "      <th>PURCHASE</th>\n",
       "      <th>REVERSAL</th>\n",
       "    </tr>\n",
       "    <tr>\n",
       "      <th>isFraud</th>\n",
       "      <th></th>\n",
       "      <th></th>\n",
       "      <th></th>\n",
       "    </tr>\n",
       "  </thead>\n",
       "  <tbody>\n",
       "    <tr>\n",
       "      <th>0</th>\n",
       "      <td>20053</td>\n",
       "      <td>733243</td>\n",
       "      <td>19966</td>\n",
       "    </tr>\n",
       "    <tr>\n",
       "      <th>1</th>\n",
       "      <td>116</td>\n",
       "      <td>11950</td>\n",
       "      <td>337</td>\n",
       "    </tr>\n",
       "  </tbody>\n",
       "</table>\n",
       "</div>"
      ],
      "text/plain": [
       "transactionType  ADDRESS_VERIFICATION  PURCHASE  REVERSAL\n",
       "isFraud                                                  \n",
       "0                               20053    733243     19966\n",
       "1                                 116     11950       337"
      ]
     },
     "execution_count": 256,
     "metadata": {},
     "output_type": "execute_result"
    }
   ],
   "source": [
    "pd.crosstab(raw_df.isFraud, raw_df.transactionType)"
   ]
  },
  {
   "cell_type": "markdown",
   "metadata": {},
   "source": [
    "- Most of the transaction tupes are Purchases but each type can result in fraud"
   ]
  },
  {
   "cell_type": "code",
   "execution_count": 257,
   "metadata": {},
   "outputs": [
    {
     "data": {
      "text/html": [
       "<div>\n",
       "<style scoped>\n",
       "    .dataframe tbody tr th:only-of-type {\n",
       "        vertical-align: middle;\n",
       "    }\n",
       "\n",
       "    .dataframe tbody tr th {\n",
       "        vertical-align: top;\n",
       "    }\n",
       "\n",
       "    .dataframe thead th {\n",
       "        text-align: right;\n",
       "    }\n",
       "</style>\n",
       "<table border=\"1\" class=\"dataframe\">\n",
       "  <thead>\n",
       "    <tr style=\"text-align: right;\">\n",
       "      <th>merchantCountryCode</th>\n",
       "      <th>CAN</th>\n",
       "      <th>MEX</th>\n",
       "      <th>PR</th>\n",
       "      <th>US</th>\n",
       "    </tr>\n",
       "    <tr>\n",
       "      <th>acqCountry</th>\n",
       "      <th></th>\n",
       "      <th></th>\n",
       "      <th></th>\n",
       "      <th></th>\n",
       "    </tr>\n",
       "  </thead>\n",
       "  <tbody>\n",
       "    <tr>\n",
       "      <th>CAN</th>\n",
       "      <td>2413</td>\n",
       "      <td>0</td>\n",
       "      <td>0</td>\n",
       "      <td>11</td>\n",
       "    </tr>\n",
       "    <tr>\n",
       "      <th>MEX</th>\n",
       "      <td>0</td>\n",
       "      <td>3109</td>\n",
       "      <td>0</td>\n",
       "      <td>21</td>\n",
       "    </tr>\n",
       "    <tr>\n",
       "      <th>PR</th>\n",
       "      <td>0</td>\n",
       "      <td>0</td>\n",
       "      <td>1536</td>\n",
       "      <td>2</td>\n",
       "    </tr>\n",
       "    <tr>\n",
       "      <th>US</th>\n",
       "      <td>4</td>\n",
       "      <td>18</td>\n",
       "      <td>11</td>\n",
       "      <td>774673</td>\n",
       "    </tr>\n",
       "  </tbody>\n",
       "</table>\n",
       "</div>"
      ],
      "text/plain": [
       "merchantCountryCode   CAN   MEX    PR      US\n",
       "acqCountry                                   \n",
       "CAN                  2413     0     0      11\n",
       "MEX                     0  3109     0      21\n",
       "PR                      0     0  1536       2\n",
       "US                      4    18    11  774673"
      ]
     },
     "execution_count": 257,
     "metadata": {},
     "output_type": "execute_result"
    }
   ],
   "source": [
    "pd.crosstab(raw_df.acqCountry, raw_df.merchantCountryCode)"
   ]
  },
  {
   "cell_type": "markdown",
   "metadata": {},
   "source": [
    "- The merchant code and acq code don't always align - it could be worth adding a feature that captures that discrepancy for a fradu model"
   ]
  },
  {
   "cell_type": "markdown",
   "metadata": {},
   "source": [
    "### Understanding class balance "
   ]
  },
  {
   "cell_type": "code",
   "execution_count": 258,
   "metadata": {},
   "outputs": [
    {
     "data": {
      "text/plain": [
       "0    773946\n",
       "1     12417\n",
       "Name: isFraud, dtype: int64"
      ]
     },
     "execution_count": 258,
     "metadata": {},
     "output_type": "execute_result"
    }
   ],
   "source": [
    "raw_df.isFraud.value_counts()"
   ]
  },
  {
   "cell_type": "code",
   "execution_count": 259,
   "metadata": {},
   "outputs": [
    {
     "data": {
      "text/plain": [
       "0    0.98421\n",
       "1    0.01579\n",
       "Name: isFraud, dtype: float64"
      ]
     },
     "execution_count": 259,
     "metadata": {},
     "output_type": "execute_result"
    }
   ],
   "source": [
    "raw_df.isFraud.value_counts(normalize = True)"
   ]
  },
  {
   "cell_type": "markdown",
   "metadata": {},
   "source": [
    "- This is a highly imbalanced dataset with the vast majority of entries corresponding to normal transactions"
   ]
  },
  {
   "cell_type": "markdown",
   "metadata": {},
   "source": [
    "### Continuous Distributions"
   ]
  },
  {
   "cell_type": "code",
   "execution_count": 260,
   "metadata": {},
   "outputs": [
    {
     "data": {
      "text/html": [
       "<div>\n",
       "<style scoped>\n",
       "    .dataframe tbody tr th:only-of-type {\n",
       "        vertical-align: middle;\n",
       "    }\n",
       "\n",
       "    .dataframe tbody tr th {\n",
       "        vertical-align: top;\n",
       "    }\n",
       "\n",
       "    .dataframe thead th {\n",
       "        text-align: right;\n",
       "    }\n",
       "</style>\n",
       "<table border=\"1\" class=\"dataframe\">\n",
       "  <thead>\n",
       "    <tr style=\"text-align: right;\">\n",
       "      <th></th>\n",
       "      <th>creditLimit</th>\n",
       "      <th>availableMoney</th>\n",
       "      <th>transactionAmount</th>\n",
       "      <th>currentBalance</th>\n",
       "      <th>cardPresent</th>\n",
       "      <th>expirationDateKeyInMatch</th>\n",
       "      <th>isFraud</th>\n",
       "    </tr>\n",
       "  </thead>\n",
       "  <tbody>\n",
       "    <tr>\n",
       "      <th>count</th>\n",
       "      <td>786363.000000</td>\n",
       "      <td>786363.000000</td>\n",
       "      <td>786363.000000</td>\n",
       "      <td>786363.000000</td>\n",
       "      <td>786363.000000</td>\n",
       "      <td>786363.000000</td>\n",
       "      <td>786363.000000</td>\n",
       "    </tr>\n",
       "    <tr>\n",
       "      <th>mean</th>\n",
       "      <td>10759.464459</td>\n",
       "      <td>6250.725369</td>\n",
       "      <td>136.985791</td>\n",
       "      <td>4508.739089</td>\n",
       "      <td>0.448734</td>\n",
       "      <td>0.001326</td>\n",
       "      <td>0.015790</td>\n",
       "    </tr>\n",
       "    <tr>\n",
       "      <th>std</th>\n",
       "      <td>11636.174890</td>\n",
       "      <td>8880.783989</td>\n",
       "      <td>147.725569</td>\n",
       "      <td>6457.442068</td>\n",
       "      <td>0.497365</td>\n",
       "      <td>0.036395</td>\n",
       "      <td>0.124664</td>\n",
       "    </tr>\n",
       "    <tr>\n",
       "      <th>min</th>\n",
       "      <td>250.000000</td>\n",
       "      <td>-1005.630000</td>\n",
       "      <td>0.000000</td>\n",
       "      <td>0.000000</td>\n",
       "      <td>0.000000</td>\n",
       "      <td>0.000000</td>\n",
       "      <td>0.000000</td>\n",
       "    </tr>\n",
       "    <tr>\n",
       "      <th>25%</th>\n",
       "      <td>5000.000000</td>\n",
       "      <td>1077.420000</td>\n",
       "      <td>33.650000</td>\n",
       "      <td>689.910000</td>\n",
       "      <td>0.000000</td>\n",
       "      <td>0.000000</td>\n",
       "      <td>0.000000</td>\n",
       "    </tr>\n",
       "    <tr>\n",
       "      <th>50%</th>\n",
       "      <td>7500.000000</td>\n",
       "      <td>3184.860000</td>\n",
       "      <td>87.900000</td>\n",
       "      <td>2451.760000</td>\n",
       "      <td>0.000000</td>\n",
       "      <td>0.000000</td>\n",
       "      <td>0.000000</td>\n",
       "    </tr>\n",
       "    <tr>\n",
       "      <th>75%</th>\n",
       "      <td>15000.000000</td>\n",
       "      <td>7500.000000</td>\n",
       "      <td>191.480000</td>\n",
       "      <td>5291.095000</td>\n",
       "      <td>1.000000</td>\n",
       "      <td>0.000000</td>\n",
       "      <td>0.000000</td>\n",
       "    </tr>\n",
       "    <tr>\n",
       "      <th>max</th>\n",
       "      <td>50000.000000</td>\n",
       "      <td>50000.000000</td>\n",
       "      <td>2011.540000</td>\n",
       "      <td>47498.810000</td>\n",
       "      <td>1.000000</td>\n",
       "      <td>1.000000</td>\n",
       "      <td>1.000000</td>\n",
       "    </tr>\n",
       "  </tbody>\n",
       "</table>\n",
       "</div>"
      ],
      "text/plain": [
       "         creditLimit  availableMoney  transactionAmount  currentBalance  \\\n",
       "count  786363.000000   786363.000000      786363.000000   786363.000000   \n",
       "mean    10759.464459     6250.725369         136.985791     4508.739089   \n",
       "std     11636.174890     8880.783989         147.725569     6457.442068   \n",
       "min       250.000000    -1005.630000           0.000000        0.000000   \n",
       "25%      5000.000000     1077.420000          33.650000      689.910000   \n",
       "50%      7500.000000     3184.860000          87.900000     2451.760000   \n",
       "75%     15000.000000     7500.000000         191.480000     5291.095000   \n",
       "max     50000.000000    50000.000000        2011.540000    47498.810000   \n",
       "\n",
       "         cardPresent  expirationDateKeyInMatch        isFraud  \n",
       "count  786363.000000             786363.000000  786363.000000  \n",
       "mean        0.448734                  0.001326       0.015790  \n",
       "std         0.497365                  0.036395       0.124664  \n",
       "min         0.000000                  0.000000       0.000000  \n",
       "25%         0.000000                  0.000000       0.000000  \n",
       "50%         0.000000                  0.000000       0.000000  \n",
       "75%         1.000000                  0.000000       0.000000  \n",
       "max         1.000000                  1.000000       1.000000  "
      ]
     },
     "execution_count": 260,
     "metadata": {},
     "output_type": "execute_result"
    }
   ],
   "source": [
    "raw_df.describe()"
   ]
  },
  {
   "cell_type": "code",
   "execution_count": 261,
   "metadata": {},
   "outputs": [
    {
     "data": {
      "text/plain": [
       "<matplotlib.axes._subplots.AxesSubplot at 0x7f9ee26cc250>"
      ]
     },
     "execution_count": 261,
     "metadata": {},
     "output_type": "execute_result"
    },
    {
     "data": {
      "image/png": "[encoded data removed]",
      "text/plain": [
       "<Figure size 432x288 with 1 Axes>"
      ]
     },
     "metadata": {
      "needs_background": "light"
     },
     "output_type": "display_data"
    }
   ],
   "source": [
    "raw_df[['creditLimit', 'availableMoney' ,'transactionAmount', 'currentBalance']].boxplot(rot = 45)"
   ]
  },
  {
   "cell_type": "markdown",
   "metadata": {},
   "source": [
    "Visualizing transactionAmount on it's own scale given the large observed differences"
   ]
  },
  {
   "cell_type": "code",
   "execution_count": 262,
   "metadata": {},
   "outputs": [
    {
     "data": {
      "text/plain": [
       "{'whiskers': [<matplotlib.lines.Line2D at 0x7f9f588d4cd0>,\n",
       "  <matplotlib.lines.Line2D at 0x7f9f588e0e50>],\n",
       " 'caps': [<matplotlib.lines.Line2D at 0x7f9f588d4b50>,\n",
       "  <matplotlib.lines.Line2D at 0x7f9f588e7890>],\n",
       " 'boxes': [<matplotlib.lines.Line2D at 0x7f9f588d4c90>],\n",
       " 'medians': [<matplotlib.lines.Line2D at 0x7f9f588e7dd0>],\n",
       " 'fliers': [<matplotlib.lines.Line2D at 0x7f9f588e0ed0>],\n",
       " 'means': []}"
      ]
     },
     "execution_count": 262,
     "metadata": {},
     "output_type": "execute_result"
    },
    {
     "data": {
      "image/png": "[encoded data removed]",
      "text/plain": [
       "<Figure size 432x288 with 1 Axes>"
      ]
     },
     "metadata": {
      "needs_background": "light"
     },
     "output_type": "display_data"
    }
   ],
   "source": [
    "plt.boxplot(raw_df['transactionAmount'], labels = ['Transaction Amount Boxplot'])"
   ]
  },
  {
   "cell_type": "code",
   "execution_count": 263,
   "metadata": {},
   "outputs": [
    {
     "data": {
      "text/plain": [
       "[]"
      ]
     },
     "execution_count": 263,
     "metadata": {},
     "output_type": "execute_result"
    },
    {
     "data": {
      "image/png": "[encoded data removed]",
      "text/plain": [
       "<Figure size 432x288 with 1 Axes>"
      ]
     },
     "metadata": {
      "needs_background": "light"
     },
     "output_type": "display_data"
    }
   ],
   "source": [
    "ax = raw_df['transactionAmount'].hist(bins = 50)\n",
    "\n",
    "ax.set_title('Transaction Amount Histogram')\n",
    "\n",
    "ax.set_ylabel(\"Frequency\")\n",
    "\n",
    "ax.plot()"
   ]
  },
  {
   "cell_type": "markdown",
   "metadata": {},
   "source": [
    "- The transaction amount distrubution is right skwed wich makes sense given different spending patterns from people with different financial conditions - there's a few high-spending transactions that are very high, with most transactions being smaller \n",
    "- Available money and current balance seem to follow a similar distribution\n",
    "- Credit limit seems to have one significantly set of outliers with the distribution appearing more normal otherwise"
   ]
  },
  {
   "cell_type": "markdown",
   "metadata": {},
   "source": [
    "### Understanding data timeframe"
   ]
  },
  {
   "cell_type": "markdown",
   "metadata": {},
   "source": [
    "Converting to datetime and extracting useful time identifiers"
   ]
  },
  {
   "cell_type": "code",
   "execution_count": 264,
   "metadata": {},
   "outputs": [
    {
     "name": "stdout",
     "output_type": "stream",
     "text": [
      "Date for first entry: 2016-01-01 00:01:02\n",
      "Date for last entry: 2016-12-30 23:59:45\n"
     ]
    }
   ],
   "source": [
    "raw_df['transactionDateTime'] = pd.to_datetime(raw_df['transactionDateTime'])\n",
    "raw_df['transaction_Day'] = raw_df['transactionDateTime'].dt.date\n",
    "raw_df['transaction_Week'] = raw_df['transactionDateTime'].dt.week\n",
    "raw_df['transaction_Month'] = raw_df['transactionDateTime'].dt.month\n",
    "\n",
    "print(\"Date for first entry: {}\".format(raw_df.transactionDateTime.min()))\n",
    "print(\"Date for last entry: {}\".format(raw_df.transactionDateTime.max()))"
   ]
  },
  {
   "cell_type": "code",
   "execution_count": 265,
   "metadata": {},
   "outputs": [
    {
     "data": {
      "text/plain": [
       "[]"
      ]
     },
     "execution_count": 265,
     "metadata": {},
     "output_type": "execute_result"
    },
    {
     "data": {
      "image/png": "[encoded data removed]",
      "text/plain": [
       "<Figure size 432x288 with 1 Axes>"
      ]
     },
     "metadata": {
      "needs_background": "light"
     },
     "output_type": "display_data"
    }
   ],
   "source": [
    "ax = raw_df.groupby('transaction_Month')['isFraud'].mean().plot(\n",
    "    title = 'Fraud vs. Month')\n",
    "\n",
    "ax.set_ylabel(\"Fraud Mean\")\n",
    "\n",
    "ax.plot()"
   ]
  },
  {
   "cell_type": "markdown",
   "metadata": {},
   "source": [
    "- It looks like there is a negative relationship between fraud and transaction month.\n",
    "    - This could be a function of how the fraud labels are collected/updated (i.e., if it takes time to determine if a transaction is fradulent, it make take some time for the data logs to reflect it\n",
    "    - Another alaternative is that there is indeed a negative relationship between month of year and fraud; in this case, this or another time grouping could be used as a feature/set of features for a fraud model"
   ]
  },
  {
   "cell_type": "code",
   "execution_count": 266,
   "metadata": {},
   "outputs": [
    {
     "data": {
      "text/plain": [
       "4    206700\n",
       "3    202065\n",
       "2    193057\n",
       "1    184541\n",
       "Name: transaction_Quarter, dtype: int64"
      ]
     },
     "execution_count": 266,
     "metadata": {},
     "output_type": "execute_result"
    }
   ],
   "source": [
    "raw_df['transaction_Quarter'] = raw_df['transactionDateTime'].dt.quarter\n",
    "raw_df['transaction_Quarter'] = raw_df['transaction_Quarter'].astype(str)\n",
    "raw_df['transaction_Quarter'].value_counts()"
   ]
  },
  {
   "cell_type": "code",
   "execution_count": 267,
   "metadata": {},
   "outputs": [
    {
     "data": {
      "text/plain": [
       "[]"
      ]
     },
     "execution_count": 267,
     "metadata": {},
     "output_type": "execute_result"
    },
    {
     "data": {
      "image/png": "[encoded data removed]",
      "text/plain": [
       "<Figure size 432x288 with 1 Axes>"
      ]
     },
     "metadata": {
      "needs_background": "light"
     },
     "output_type": "display_data"
    }
   ],
   "source": [
    "ax = raw_df.groupby('transaction_Quarter')['isFraud'].mean().plot(\n",
    "    title = 'Fraud vs. Quarter')\n",
    "\n",
    "ax.set_ylabel(\"Fraud Mean\")\n",
    "\n",
    "ax.plot()"
   ]
  },
  {
   "cell_type": "markdown",
   "metadata": {},
   "source": [
    "- The relationship is still very much visible with quarters. There's also a very similar number of transactions per quarter with more transactions on the last two"
   ]
  },
  {
   "cell_type": "markdown",
   "metadata": {},
   "source": [
    "### Identifying and removing duplicates"
   ]
  },
  {
   "cell_type": "markdown",
   "metadata": {},
   "source": [
    "Types of duplicates:\n",
    "1. One type of duplicated transaction is a reversed transaction, where a purchase is followed by a reversal.\n",
    "2. Another example is a multi-swipe, where a vendor accidentally charges a customer's card multiple times within a short time span."
   ]
  },
  {
   "cell_type": "markdown",
   "metadata": {},
   "source": [
    "**1. Purchase followed by reversal**"
   ]
  },
  {
   "cell_type": "code",
   "execution_count": 268,
   "metadata": {},
   "outputs": [
    {
     "data": {
      "text/html": [
       "<div>\n",
       "<style scoped>\n",
       "    .dataframe tbody tr th:only-of-type {\n",
       "        vertical-align: middle;\n",
       "    }\n",
       "\n",
       "    .dataframe tbody tr th {\n",
       "        vertical-align: top;\n",
       "    }\n",
       "\n",
       "    .dataframe thead th {\n",
       "        text-align: right;\n",
       "    }\n",
       "</style>\n",
       "<table border=\"1\" class=\"dataframe\">\n",
       "  <thead>\n",
       "    <tr style=\"text-align: right;\">\n",
       "      <th></th>\n",
       "      <th></th>\n",
       "      <th>accountNumber</th>\n",
       "      <th>customerId</th>\n",
       "      <th>creditLimit</th>\n",
       "      <th>availableMoney</th>\n",
       "      <th>transactionDateTime</th>\n",
       "      <th>transactionAmount</th>\n",
       "      <th>merchantName</th>\n",
       "      <th>acqCountry</th>\n",
       "      <th>merchantCountryCode</th>\n",
       "      <th>posEntryMode</th>\n",
       "      <th>...</th>\n",
       "      <th>cardLast4Digits</th>\n",
       "      <th>transactionType</th>\n",
       "      <th>currentBalance</th>\n",
       "      <th>cardPresent</th>\n",
       "      <th>expirationDateKeyInMatch</th>\n",
       "      <th>isFraud</th>\n",
       "      <th>transaction_Day</th>\n",
       "      <th>transaction_Week</th>\n",
       "      <th>transaction_Month</th>\n",
       "      <th>transaction_Quarter</th>\n",
       "    </tr>\n",
       "    <tr>\n",
       "      <th>accountNumber</th>\n",
       "      <th></th>\n",
       "      <th></th>\n",
       "      <th></th>\n",
       "      <th></th>\n",
       "      <th></th>\n",
       "      <th></th>\n",
       "      <th></th>\n",
       "      <th></th>\n",
       "      <th></th>\n",
       "      <th></th>\n",
       "      <th></th>\n",
       "      <th></th>\n",
       "      <th></th>\n",
       "      <th></th>\n",
       "      <th></th>\n",
       "      <th></th>\n",
       "      <th></th>\n",
       "      <th></th>\n",
       "      <th></th>\n",
       "      <th></th>\n",
       "      <th></th>\n",
       "      <th></th>\n",
       "    </tr>\n",
       "  </thead>\n",
       "  <tbody>\n",
       "    <tr>\n",
       "      <th rowspan=\"5\" valign=\"top\">100088067</th>\n",
       "      <th>541900</th>\n",
       "      <td>100088067</td>\n",
       "      <td>100088067</td>\n",
       "      <td>50000.0</td>\n",
       "      <td>50000.00</td>\n",
       "      <td>2016-01-12 00:59:52</td>\n",
       "      <td>205.13</td>\n",
       "      <td>EZ Putt Putt #982199</td>\n",
       "      <td>US</td>\n",
       "      <td>US</td>\n",
       "      <td>02</td>\n",
       "      <td>...</td>\n",
       "      <td>4615</td>\n",
       "      <td>PURCHASE</td>\n",
       "      <td>0.00</td>\n",
       "      <td>1</td>\n",
       "      <td>0</td>\n",
       "      <td>0</td>\n",
       "      <td>2016-01-12</td>\n",
       "      <td>2</td>\n",
       "      <td>1</td>\n",
       "      <td>1</td>\n",
       "    </tr>\n",
       "    <tr>\n",
       "      <th>541901</th>\n",
       "      <td>100088067</td>\n",
       "      <td>100088067</td>\n",
       "      <td>50000.0</td>\n",
       "      <td>49794.87</td>\n",
       "      <td>2016-01-12 19:49:41</td>\n",
       "      <td>46.43</td>\n",
       "      <td>Dinosaur Sandwitch Bar #303701</td>\n",
       "      <td>US</td>\n",
       "      <td>US</td>\n",
       "      <td>05</td>\n",
       "      <td>...</td>\n",
       "      <td>4615</td>\n",
       "      <td>PURCHASE</td>\n",
       "      <td>205.13</td>\n",
       "      <td>1</td>\n",
       "      <td>0</td>\n",
       "      <td>0</td>\n",
       "      <td>2016-01-12</td>\n",
       "      <td>2</td>\n",
       "      <td>1</td>\n",
       "      <td>1</td>\n",
       "    </tr>\n",
       "    <tr>\n",
       "      <th>541902</th>\n",
       "      <td>100088067</td>\n",
       "      <td>100088067</td>\n",
       "      <td>50000.0</td>\n",
       "      <td>49748.44</td>\n",
       "      <td>2016-01-17 15:41:46</td>\n",
       "      <td>378.67</td>\n",
       "      <td>Mobile eCards</td>\n",
       "      <td>US</td>\n",
       "      <td>US</td>\n",
       "      <td>05</td>\n",
       "      <td>...</td>\n",
       "      <td>2077</td>\n",
       "      <td>PURCHASE</td>\n",
       "      <td>251.56</td>\n",
       "      <td>0</td>\n",
       "      <td>0</td>\n",
       "      <td>0</td>\n",
       "      <td>2016-01-17</td>\n",
       "      <td>2</td>\n",
       "      <td>1</td>\n",
       "      <td>1</td>\n",
       "    </tr>\n",
       "    <tr>\n",
       "      <th>541903</th>\n",
       "      <td>100088067</td>\n",
       "      <td>100088067</td>\n",
       "      <td>50000.0</td>\n",
       "      <td>50000.00</td>\n",
       "      <td>2016-02-02 19:57:18</td>\n",
       "      <td>66.07</td>\n",
       "      <td>EZ Putt Putt #40513</td>\n",
       "      <td>US</td>\n",
       "      <td>US</td>\n",
       "      <td>02</td>\n",
       "      <td>...</td>\n",
       "      <td>4615</td>\n",
       "      <td>PURCHASE</td>\n",
       "      <td>0.00</td>\n",
       "      <td>1</td>\n",
       "      <td>0</td>\n",
       "      <td>0</td>\n",
       "      <td>2016-02-02</td>\n",
       "      <td>5</td>\n",
       "      <td>2</td>\n",
       "      <td>1</td>\n",
       "    </tr>\n",
       "    <tr>\n",
       "      <th>541904</th>\n",
       "      <td>100088067</td>\n",
       "      <td>100088067</td>\n",
       "      <td>50000.0</td>\n",
       "      <td>49933.93</td>\n",
       "      <td>2016-02-03 04:48:54</td>\n",
       "      <td>141.60</td>\n",
       "      <td>34th BBQ #412895</td>\n",
       "      <td>US</td>\n",
       "      <td>US</td>\n",
       "      <td>09</td>\n",
       "      <td>...</td>\n",
       "      <td>4615</td>\n",
       "      <td>PURCHASE</td>\n",
       "      <td>66.07</td>\n",
       "      <td>1</td>\n",
       "      <td>0</td>\n",
       "      <td>0</td>\n",
       "      <td>2016-02-03</td>\n",
       "      <td>5</td>\n",
       "      <td>2</td>\n",
       "      <td>1</td>\n",
       "    </tr>\n",
       "  </tbody>\n",
       "</table>\n",
       "<p>5 rows × 27 columns</p>\n",
       "</div>"
      ],
      "text/plain": [
       "                     accountNumber customerId  creditLimit  availableMoney  \\\n",
       "accountNumber                                                                \n",
       "100088067     541900     100088067  100088067      50000.0        50000.00   \n",
       "              541901     100088067  100088067      50000.0        49794.87   \n",
       "              541902     100088067  100088067      50000.0        49748.44   \n",
       "              541903     100088067  100088067      50000.0        50000.00   \n",
       "              541904     100088067  100088067      50000.0        49933.93   \n",
       "\n",
       "                     transactionDateTime  transactionAmount  \\\n",
       "accountNumber                                                 \n",
       "100088067     541900 2016-01-12 00:59:52             205.13   \n",
       "              541901 2016-01-12 19:49:41              46.43   \n",
       "              541902 2016-01-17 15:41:46             378.67   \n",
       "              541903 2016-02-02 19:57:18              66.07   \n",
       "              541904 2016-02-03 04:48:54             141.60   \n",
       "\n",
       "                                        merchantName acqCountry  \\\n",
       "accountNumber                                                     \n",
       "100088067     541900            EZ Putt Putt #982199         US   \n",
       "              541901  Dinosaur Sandwitch Bar #303701         US   \n",
       "              541902                   Mobile eCards         US   \n",
       "              541903             EZ Putt Putt #40513         US   \n",
       "              541904                34th BBQ #412895         US   \n",
       "\n",
       "                     merchantCountryCode posEntryMode  ... cardLast4Digits  \\\n",
       "accountNumber                                          ...                   \n",
       "100088067     541900                  US           02  ...            4615   \n",
       "              541901                  US           05  ...            4615   \n",
       "              541902                  US           05  ...            2077   \n",
       "              541903                  US           02  ...            4615   \n",
       "              541904                  US           09  ...            4615   \n",
       "\n",
       "                     transactionType currentBalance cardPresent  \\\n",
       "accountNumber                                                     \n",
       "100088067     541900        PURCHASE           0.00           1   \n",
       "              541901        PURCHASE         205.13           1   \n",
       "              541902        PURCHASE         251.56           0   \n",
       "              541903        PURCHASE           0.00           1   \n",
       "              541904        PURCHASE          66.07           1   \n",
       "\n",
       "                     expirationDateKeyInMatch isFraud transaction_Day  \\\n",
       "accountNumber                                                           \n",
       "100088067     541900                        0       0      2016-01-12   \n",
       "              541901                        0       0      2016-01-12   \n",
       "              541902                        0       0      2016-01-17   \n",
       "              541903                        0       0      2016-02-02   \n",
       "              541904                        0       0      2016-02-03   \n",
       "\n",
       "                     transaction_Week transaction_Month  transaction_Quarter  \n",
       "accountNumber                                                                 \n",
       "100088067     541900                2                 1                    1  \n",
       "              541901                2                 1                    1  \n",
       "              541902                2                 1                    1  \n",
       "              541903                5                 2                    1  \n",
       "              541904                5                 2                    1  \n",
       "\n",
       "[5 rows x 27 columns]"
      ]
     },
     "execution_count": 268,
     "metadata": {},
     "output_type": "execute_result"
    }
   ],
   "source": [
    "grouped_df = raw_df.groupby('accountNumber').apply(lambda x: x.sort_values('transactionDateTime'))\n",
    "grouped_df.head()"
   ]
  },
  {
   "cell_type": "code",
   "execution_count": 269,
   "metadata": {},
   "outputs": [],
   "source": [
    "grouped_df['all_trans'] = np.where(grouped_df['transactionType'] == 'REVERSAL',\n",
    "                                   grouped_df['transactionAmount']*-1, grouped_df['transactionAmount'])\n",
    "grouped_df['last2_trans'] = grouped_df['all_trans'].rolling(2).sum()"
   ]
  },
  {
   "cell_type": "code",
   "execution_count": 270,
   "metadata": {},
   "outputs": [],
   "source": [
    "rt_cols = ['accountNumber','customerId','transactionDateTime', 'transactionType', 'transactionAmount','last2_trans']"
   ]
  },
  {
   "cell_type": "code",
   "execution_count": 271,
   "metadata": {},
   "outputs": [
    {
     "data": {
      "text/html": [
       "<div>\n",
       "<style scoped>\n",
       "    .dataframe tbody tr th:only-of-type {\n",
       "        vertical-align: middle;\n",
       "    }\n",
       "\n",
       "    .dataframe tbody tr th {\n",
       "        vertical-align: top;\n",
       "    }\n",
       "\n",
       "    .dataframe thead th {\n",
       "        text-align: right;\n",
       "    }\n",
       "</style>\n",
       "<table border=\"1\" class=\"dataframe\">\n",
       "  <thead>\n",
       "    <tr style=\"text-align: right;\">\n",
       "      <th></th>\n",
       "      <th></th>\n",
       "      <th>accountNumber</th>\n",
       "      <th>customerId</th>\n",
       "      <th>transactionDateTime</th>\n",
       "      <th>transactionType</th>\n",
       "      <th>transactionAmount</th>\n",
       "      <th>last2_trans</th>\n",
       "    </tr>\n",
       "    <tr>\n",
       "      <th>accountNumber</th>\n",
       "      <th></th>\n",
       "      <th></th>\n",
       "      <th></th>\n",
       "      <th></th>\n",
       "      <th></th>\n",
       "      <th></th>\n",
       "      <th></th>\n",
       "    </tr>\n",
       "  </thead>\n",
       "  <tbody>\n",
       "    <tr>\n",
       "      <th>131007981</th>\n",
       "      <th>665601</th>\n",
       "      <td>131007981</td>\n",
       "      <td>131007981</td>\n",
       "      <td>2016-10-24 18:11:39</td>\n",
       "      <td>REVERSAL</td>\n",
       "      <td>190.63</td>\n",
       "      <td>0.0</td>\n",
       "    </tr>\n",
       "    <tr>\n",
       "      <th>472288969</th>\n",
       "      <th>699994</th>\n",
       "      <td>472288969</td>\n",
       "      <td>472288969</td>\n",
       "      <td>2016-12-16 06:32:32</td>\n",
       "      <td>REVERSAL</td>\n",
       "      <td>708.46</td>\n",
       "      <td>0.0</td>\n",
       "    </tr>\n",
       "    <tr>\n",
       "      <th>577802389</th>\n",
       "      <th>66717</th>\n",
       "      <td>577802389</td>\n",
       "      <td>577802389</td>\n",
       "      <td>2016-11-01 03:35:47</td>\n",
       "      <td>REVERSAL</td>\n",
       "      <td>323.30</td>\n",
       "      <td>0.0</td>\n",
       "    </tr>\n",
       "    <tr>\n",
       "      <th>596028898</th>\n",
       "      <th>73569</th>\n",
       "      <td>596028898</td>\n",
       "      <td>596028898</td>\n",
       "      <td>2016-05-15 22:53:19</td>\n",
       "      <td>REVERSAL</td>\n",
       "      <td>166.31</td>\n",
       "      <td>0.0</td>\n",
       "    </tr>\n",
       "    <tr>\n",
       "      <th>655864583</th>\n",
       "      <th>459156</th>\n",
       "      <td>655864583</td>\n",
       "      <td>655864583</td>\n",
       "      <td>2016-05-21 10:47:06</td>\n",
       "      <td>REVERSAL</td>\n",
       "      <td>86.29</td>\n",
       "      <td>0.0</td>\n",
       "    </tr>\n",
       "    <tr>\n",
       "      <th>675396999</th>\n",
       "      <th>357550</th>\n",
       "      <td>675396999</td>\n",
       "      <td>675396999</td>\n",
       "      <td>2016-01-26 19:16:12</td>\n",
       "      <td>REVERSAL</td>\n",
       "      <td>5.61</td>\n",
       "      <td>0.0</td>\n",
       "    </tr>\n",
       "    <tr>\n",
       "      <th>975471147</th>\n",
       "      <th>478484</th>\n",
       "      <td>975471147</td>\n",
       "      <td>975471147</td>\n",
       "      <td>2016-10-02 19:16:55</td>\n",
       "      <td>REVERSAL</td>\n",
       "      <td>21.67</td>\n",
       "      <td>0.0</td>\n",
       "    </tr>\n",
       "  </tbody>\n",
       "</table>\n",
       "</div>"
      ],
      "text/plain": [
       "                     accountNumber customerId transactionDateTime  \\\n",
       "accountNumber                                                       \n",
       "131007981     665601     131007981  131007981 2016-10-24 18:11:39   \n",
       "472288969     699994     472288969  472288969 2016-12-16 06:32:32   \n",
       "577802389     66717      577802389  577802389 2016-11-01 03:35:47   \n",
       "596028898     73569      596028898  596028898 2016-05-15 22:53:19   \n",
       "655864583     459156     655864583  655864583 2016-05-21 10:47:06   \n",
       "675396999     357550     675396999  675396999 2016-01-26 19:16:12   \n",
       "975471147     478484     975471147  975471147 2016-10-02 19:16:55   \n",
       "\n",
       "                     transactionType  transactionAmount  last2_trans  \n",
       "accountNumber                                                         \n",
       "131007981     665601        REVERSAL             190.63          0.0  \n",
       "472288969     699994        REVERSAL             708.46          0.0  \n",
       "577802389     66717         REVERSAL             323.30          0.0  \n",
       "596028898     73569         REVERSAL             166.31          0.0  \n",
       "655864583     459156        REVERSAL              86.29          0.0  \n",
       "675396999     357550        REVERSAL               5.61          0.0  \n",
       "975471147     478484        REVERSAL              21.67          0.0  "
      ]
     },
     "execution_count": 271,
     "metadata": {},
     "output_type": "execute_result"
    }
   ],
   "source": [
    "reversed_transactions = grouped_df[(grouped_df['last2_trans'] == 0) & \n",
    "                                   (grouped_df['transactionType'] != \"ADDRESS_VERIFICATION\")][rt_cols]\n",
    "\n",
    "reversed_transactions"
   ]
  },
  {
   "cell_type": "code",
   "execution_count": 272,
   "metadata": {},
   "outputs": [
    {
     "name": "stdout",
     "output_type": "stream",
     "text": [
      "The total transaction amount from reversed transactions is: 1502.27\n"
     ]
    }
   ],
   "source": [
    "print(\"The total transaction amount from reversed transactions is: {}\".\\\n",
    "      format(sum(reversed_transactions['transactionAmount'])))"
   ]
  },
  {
   "cell_type": "markdown",
   "metadata": {},
   "source": [
    "Identifying original and reserved transactions to verify"
   ]
  },
  {
   "cell_type": "code",
   "execution_count": 273,
   "metadata": {},
   "outputs": [],
   "source": [
    "reversed_transactions.reset_index(drop=True, inplace=True) "
   ]
  },
  {
   "cell_type": "code",
   "execution_count": 274,
   "metadata": {},
   "outputs": [],
   "source": [
    "grouped_df.reset_index(drop=True, inplace=True) "
   ]
  },
  {
   "cell_type": "code",
   "execution_count": 275,
   "metadata": {},
   "outputs": [
    {
     "data": {
      "text/html": [
       "<div>\n",
       "<style scoped>\n",
       "    .dataframe tbody tr th:only-of-type {\n",
       "        vertical-align: middle;\n",
       "    }\n",
       "\n",
       "    .dataframe tbody tr th {\n",
       "        vertical-align: top;\n",
       "    }\n",
       "\n",
       "    .dataframe thead th {\n",
       "        text-align: right;\n",
       "    }\n",
       "</style>\n",
       "<table border=\"1\" class=\"dataframe\">\n",
       "  <thead>\n",
       "    <tr style=\"text-align: right;\">\n",
       "      <th></th>\n",
       "      <th>customerId</th>\n",
       "      <th>transactionDateTime</th>\n",
       "      <th>transactionType</th>\n",
       "      <th>transactionAmount</th>\n",
       "      <th>last2_trans</th>\n",
       "      <th>merchantName</th>\n",
       "      <th>isFraud</th>\n",
       "    </tr>\n",
       "  </thead>\n",
       "  <tbody>\n",
       "    <tr>\n",
       "      <th>0</th>\n",
       "      <td>131007981</td>\n",
       "      <td>2016-10-24 18:11:37</td>\n",
       "      <td>PURCHASE</td>\n",
       "      <td>190.63</td>\n",
       "      <td>247.16</td>\n",
       "      <td>EZ Putt Putt #755869</td>\n",
       "      <td>1</td>\n",
       "    </tr>\n",
       "    <tr>\n",
       "      <th>1</th>\n",
       "      <td>131007981</td>\n",
       "      <td>2016-10-24 18:11:39</td>\n",
       "      <td>REVERSAL</td>\n",
       "      <td>190.63</td>\n",
       "      <td>0.00</td>\n",
       "      <td>EZ Putt Putt #755869</td>\n",
       "      <td>1</td>\n",
       "    </tr>\n",
       "    <tr>\n",
       "      <th>2</th>\n",
       "      <td>472288969</td>\n",
       "      <td>2016-12-16 06:31:37</td>\n",
       "      <td>PURCHASE</td>\n",
       "      <td>708.46</td>\n",
       "      <td>896.70</td>\n",
       "      <td>United Airlines</td>\n",
       "      <td>0</td>\n",
       "    </tr>\n",
       "    <tr>\n",
       "      <th>3</th>\n",
       "      <td>472288969</td>\n",
       "      <td>2016-12-16 06:32:32</td>\n",
       "      <td>REVERSAL</td>\n",
       "      <td>708.46</td>\n",
       "      <td>0.00</td>\n",
       "      <td>United Airlines</td>\n",
       "      <td>0</td>\n",
       "    </tr>\n",
       "    <tr>\n",
       "      <th>4</th>\n",
       "      <td>577802389</td>\n",
       "      <td>2016-11-01 03:35:17</td>\n",
       "      <td>PURCHASE</td>\n",
       "      <td>323.30</td>\n",
       "      <td>425.49</td>\n",
       "      <td>Fresh Flowers</td>\n",
       "      <td>0</td>\n",
       "    </tr>\n",
       "    <tr>\n",
       "      <th>5</th>\n",
       "      <td>577802389</td>\n",
       "      <td>2016-11-01 03:35:47</td>\n",
       "      <td>REVERSAL</td>\n",
       "      <td>323.30</td>\n",
       "      <td>0.00</td>\n",
       "      <td>Fresh Flowers</td>\n",
       "      <td>0</td>\n",
       "    </tr>\n",
       "    <tr>\n",
       "      <th>6</th>\n",
       "      <td>596028898</td>\n",
       "      <td>2016-05-15 22:50:44</td>\n",
       "      <td>PURCHASE</td>\n",
       "      <td>166.31</td>\n",
       "      <td>166.31</td>\n",
       "      <td>American Airlines</td>\n",
       "      <td>0</td>\n",
       "    </tr>\n",
       "    <tr>\n",
       "      <th>7</th>\n",
       "      <td>596028898</td>\n",
       "      <td>2016-05-15 22:53:19</td>\n",
       "      <td>REVERSAL</td>\n",
       "      <td>166.31</td>\n",
       "      <td>0.00</td>\n",
       "      <td>American Airlines</td>\n",
       "      <td>0</td>\n",
       "    </tr>\n",
       "    <tr>\n",
       "      <th>8</th>\n",
       "      <td>655864583</td>\n",
       "      <td>2016-05-21 10:46:23</td>\n",
       "      <td>PURCHASE</td>\n",
       "      <td>86.29</td>\n",
       "      <td>875.88</td>\n",
       "      <td>Uber</td>\n",
       "      <td>0</td>\n",
       "    </tr>\n",
       "    <tr>\n",
       "      <th>9</th>\n",
       "      <td>655864583</td>\n",
       "      <td>2016-05-21 10:47:06</td>\n",
       "      <td>REVERSAL</td>\n",
       "      <td>86.29</td>\n",
       "      <td>0.00</td>\n",
       "      <td>Uber</td>\n",
       "      <td>0</td>\n",
       "    </tr>\n",
       "    <tr>\n",
       "      <th>10</th>\n",
       "      <td>675396999</td>\n",
       "      <td>2016-01-26 19:15:18</td>\n",
       "      <td>PURCHASE</td>\n",
       "      <td>5.61</td>\n",
       "      <td>390.49</td>\n",
       "      <td>Tim Hortons #637576</td>\n",
       "      <td>0</td>\n",
       "    </tr>\n",
       "    <tr>\n",
       "      <th>11</th>\n",
       "      <td>675396999</td>\n",
       "      <td>2016-01-26 19:16:12</td>\n",
       "      <td>REVERSAL</td>\n",
       "      <td>5.61</td>\n",
       "      <td>0.00</td>\n",
       "      <td>Tim Hortons #637576</td>\n",
       "      <td>0</td>\n",
       "    </tr>\n",
       "    <tr>\n",
       "      <th>12</th>\n",
       "      <td>975471147</td>\n",
       "      <td>2016-10-02 19:14:17</td>\n",
       "      <td>PURCHASE</td>\n",
       "      <td>21.67</td>\n",
       "      <td>187.41</td>\n",
       "      <td>AMC #606218</td>\n",
       "      <td>0</td>\n",
       "    </tr>\n",
       "    <tr>\n",
       "      <th>13</th>\n",
       "      <td>975471147</td>\n",
       "      <td>2016-10-02 19:16:55</td>\n",
       "      <td>REVERSAL</td>\n",
       "      <td>21.67</td>\n",
       "      <td>0.00</td>\n",
       "      <td>AMC #606218</td>\n",
       "      <td>0</td>\n",
       "    </tr>\n",
       "  </tbody>\n",
       "</table>\n",
       "</div>"
      ],
      "text/plain": [
       "   customerId transactionDateTime transactionType  transactionAmount  \\\n",
       "0   131007981 2016-10-24 18:11:37        PURCHASE             190.63   \n",
       "1   131007981 2016-10-24 18:11:39        REVERSAL             190.63   \n",
       "2   472288969 2016-12-16 06:31:37        PURCHASE             708.46   \n",
       "3   472288969 2016-12-16 06:32:32        REVERSAL             708.46   \n",
       "4   577802389 2016-11-01 03:35:17        PURCHASE             323.30   \n",
       "5   577802389 2016-11-01 03:35:47        REVERSAL             323.30   \n",
       "6   596028898 2016-05-15 22:50:44        PURCHASE             166.31   \n",
       "7   596028898 2016-05-15 22:53:19        REVERSAL             166.31   \n",
       "8   655864583 2016-05-21 10:46:23        PURCHASE              86.29   \n",
       "9   655864583 2016-05-21 10:47:06        REVERSAL              86.29   \n",
       "10  675396999 2016-01-26 19:15:18        PURCHASE               5.61   \n",
       "11  675396999 2016-01-26 19:16:12        REVERSAL               5.61   \n",
       "12  975471147 2016-10-02 19:14:17        PURCHASE              21.67   \n",
       "13  975471147 2016-10-02 19:16:55        REVERSAL              21.67   \n",
       "\n",
       "    last2_trans          merchantName  isFraud  \n",
       "0        247.16  EZ Putt Putt #755869        1  \n",
       "1          0.00  EZ Putt Putt #755869        1  \n",
       "2        896.70       United Airlines        0  \n",
       "3          0.00       United Airlines        0  \n",
       "4        425.49         Fresh Flowers        0  \n",
       "5          0.00         Fresh Flowers        0  \n",
       "6        166.31     American Airlines        0  \n",
       "7          0.00     American Airlines        0  \n",
       "8        875.88                  Uber        0  \n",
       "9          0.00                  Uber        0  \n",
       "10       390.49   Tim Hortons #637576        0  \n",
       "11         0.00   Tim Hortons #637576        0  \n",
       "12       187.41           AMC #606218        0  \n",
       "13         0.00           AMC #606218        0  "
      ]
     },
     "execution_count": 275,
     "metadata": {},
     "output_type": "execute_result"
    }
   ],
   "source": [
    "test_dups = pd.merge(reversed_transactions[['customerId', 'transactionAmount']], grouped_df ,\n",
    "         how = 'inner', on = ['customerId', 'transactionAmount'])\n",
    "\n",
    "test_dups[['customerId','transactionDateTime', 'transactionType', 'transactionAmount','last2_trans', 'merchantName', 'isFraud']]"
   ]
  },
  {
   "cell_type": "markdown",
   "metadata": {},
   "source": [
    "- It looks right!"
   ]
  },
  {
   "cell_type": "markdown",
   "metadata": {},
   "source": [
    "**2.  Multi-swipe -  where a vendor accidentally charges a customer's card multiple times within a short time span.**"
   ]
  },
  {
   "cell_type": "markdown",
   "metadata": {},
   "source": [
    "To identify multi-swipes, a time parameter will be introduced to classify the transactions (if the same transaction amount was charged more than once, by the same merchant, within x minutes)"
   ]
  },
  {
   "cell_type": "code",
   "execution_count": 276,
   "metadata": {},
   "outputs": [],
   "source": [
    "  \n",
    "def find_multiswipe(df, minutes):   \n",
    "    \n",
    "    df[['trans_lagged', \"datetime_lagged\", \"merchant_lagged\"]] = df.sort_values(\"transactionDateTime\",\\\n",
    "        ascending=True).groupby(['accountNumber'])\\\n",
    "        ['transactionAmount', 'transactionDateTime', 'merchantName'].shift(1)\n",
    "\n",
    "    df['same_transVal'] = np.where((df['trans_lagged'] == df['transactionAmount']) &\n",
    "                                            (df['merchantName'] == df['merchant_lagged']) &\n",
    "                                            ((df['transactionDateTime'] - df['datetime_lagged'])/\n",
    "                                             np.timedelta64(1, 'm') <= minutes) ,\n",
    "                                            1, 0)\n",
    "\n",
    "    cols = ['accountNumber','customerId','transactionDateTime',\"datetime_lagged\", \"isFraud\",\n",
    "            'transactionType', 'transactionAmount', \"trans_lagged\", 'merchantName', 'merchant_lagged']\n",
    "\n",
    "    multi_swipe = df[(df['same_transVal'] == 1) & (df['transactionType'] == \"PURCHASE\")][cols]\n",
    "    \n",
    "    total_amt = multi_swipe['transactionAmount'].sum()\n",
    "    \n",
    "    return multi_swipe, total_amt"
   ]
  },
  {
   "cell_type": "code",
   "execution_count": 277,
   "metadata": {},
   "outputs": [
    {
     "name": "stdout",
     "output_type": "stream",
     "text": [
      "Within 1 minutes, 2479 multi-swipes were identified totaling 377621.02 dollars\n",
      "Within 5 minutes, 7372 multi-swipes were identified totaling 1090684.28 dollars\n",
      "Within 10 minutes, 7372 multi-swipes were identified totaling 1090684.28 dollars\n",
      "Within 20 minutes, 7372 multi-swipes were identified totaling 1090684.28 dollars\n"
     ]
    }
   ],
   "source": [
    "for minutes in [1, 5, 10, 20]:\n",
    "\n",
    "    multi_swipe, amt = find_multiswipe(grouped_df, minutes)\n",
    "    \n",
    "    print(\"Within {} minutes, {} multi-swipes were identified totaling {} dollars\".format(\n",
    "    minutes, len(multi_swipe), round(amt, 2)) )  "
   ]
  },
  {
   "cell_type": "markdown",
   "metadata": {},
   "source": [
    "- It looks like multiswipes can happen in over a minute but they don't seem to change after 5 minutes.\n",
    "- To be more conversative, 5 minutes will be used"
   ]
  },
  {
   "cell_type": "code",
   "execution_count": 278,
   "metadata": {},
   "outputs": [
    {
     "name": "stdout",
     "output_type": "stream",
     "text": [
      "The total estimate in multi-swipe transactions is 1090684.28\n"
     ]
    }
   ],
   "source": [
    "multi_swipe, amt = find_multiswipe(grouped_df, 5)\n",
    "print(\"The total estimate in multi-swipe transactions is {}\".format(round(amt, 2)))"
   ]
  },
  {
   "cell_type": "code",
   "execution_count": 279,
   "metadata": {},
   "outputs": [
    {
     "name": "stdout",
     "output_type": "stream",
     "text": [
      "7372\n"
     ]
    },
    {
     "data": {
      "text/html": [
       "<div>\n",
       "<style scoped>\n",
       "    .dataframe tbody tr th:only-of-type {\n",
       "        vertical-align: middle;\n",
       "    }\n",
       "\n",
       "    .dataframe tbody tr th {\n",
       "        vertical-align: top;\n",
       "    }\n",
       "\n",
       "    .dataframe thead th {\n",
       "        text-align: right;\n",
       "    }\n",
       "</style>\n",
       "<table border=\"1\" class=\"dataframe\">\n",
       "  <thead>\n",
       "    <tr style=\"text-align: right;\">\n",
       "      <th></th>\n",
       "      <th>accountNumber</th>\n",
       "      <th>customerId</th>\n",
       "      <th>transactionDateTime</th>\n",
       "      <th>datetime_lagged</th>\n",
       "      <th>isFraud</th>\n",
       "      <th>transactionType</th>\n",
       "      <th>transactionAmount</th>\n",
       "      <th>trans_lagged</th>\n",
       "      <th>merchantName</th>\n",
       "      <th>merchant_lagged</th>\n",
       "    </tr>\n",
       "  </thead>\n",
       "  <tbody>\n",
       "    <tr>\n",
       "      <th>56</th>\n",
       "      <td>100088067</td>\n",
       "      <td>100088067</td>\n",
       "      <td>2016-10-16 18:01:02</td>\n",
       "      <td>2016-10-16 18:01:00</td>\n",
       "      <td>0</td>\n",
       "      <td>PURCHASE</td>\n",
       "      <td>411.35</td>\n",
       "      <td>411.35</td>\n",
       "      <td>Fresh Flowers</td>\n",
       "      <td>Fresh Flowers</td>\n",
       "    </tr>\n",
       "    <tr>\n",
       "      <th>233</th>\n",
       "      <td>100737756</td>\n",
       "      <td>100737756</td>\n",
       "      <td>2016-01-18 01:55:28</td>\n",
       "      <td>2016-01-18 01:55:24</td>\n",
       "      <td>0</td>\n",
       "      <td>PURCHASE</td>\n",
       "      <td>693.50</td>\n",
       "      <td>693.50</td>\n",
       "      <td>Franks Deli</td>\n",
       "      <td>Franks Deli</td>\n",
       "    </tr>\n",
       "    <tr>\n",
       "      <th>234</th>\n",
       "      <td>100737756</td>\n",
       "      <td>100737756</td>\n",
       "      <td>2016-01-18 01:58:26</td>\n",
       "      <td>2016-01-18 01:55:28</td>\n",
       "      <td>0</td>\n",
       "      <td>PURCHASE</td>\n",
       "      <td>693.50</td>\n",
       "      <td>693.50</td>\n",
       "      <td>Franks Deli</td>\n",
       "      <td>Franks Deli</td>\n",
       "    </tr>\n",
       "    <tr>\n",
       "      <th>319</th>\n",
       "      <td>100737756</td>\n",
       "      <td>100737756</td>\n",
       "      <td>2016-07-02 12:07:00</td>\n",
       "      <td>2016-07-02 12:05:04</td>\n",
       "      <td>0</td>\n",
       "      <td>PURCHASE</td>\n",
       "      <td>211.22</td>\n",
       "      <td>211.22</td>\n",
       "      <td>South Steakhouse #73819</td>\n",
       "      <td>South Steakhouse #73819</td>\n",
       "    </tr>\n",
       "    <tr>\n",
       "      <th>324</th>\n",
       "      <td>100737756</td>\n",
       "      <td>100737756</td>\n",
       "      <td>2016-07-10 14:32:06</td>\n",
       "      <td>2016-07-10 14:31:07</td>\n",
       "      <td>0</td>\n",
       "      <td>PURCHASE</td>\n",
       "      <td>43.25</td>\n",
       "      <td>43.25</td>\n",
       "      <td>34th BBQ #166379</td>\n",
       "      <td>34th BBQ #166379</td>\n",
       "    </tr>\n",
       "  </tbody>\n",
       "</table>\n",
       "</div>"
      ],
      "text/plain": [
       "    accountNumber customerId transactionDateTime     datetime_lagged  isFraud  \\\n",
       "56      100088067  100088067 2016-10-16 18:01:02 2016-10-16 18:01:00        0   \n",
       "233     100737756  100737756 2016-01-18 01:55:28 2016-01-18 01:55:24        0   \n",
       "234     100737756  100737756 2016-01-18 01:58:26 2016-01-18 01:55:28        0   \n",
       "319     100737756  100737756 2016-07-02 12:07:00 2016-07-02 12:05:04        0   \n",
       "324     100737756  100737756 2016-07-10 14:32:06 2016-07-10 14:31:07        0   \n",
       "\n",
       "    transactionType  transactionAmount  trans_lagged             merchantName  \\\n",
       "56         PURCHASE             411.35        411.35            Fresh Flowers   \n",
       "233        PURCHASE             693.50        693.50              Franks Deli   \n",
       "234        PURCHASE             693.50        693.50              Franks Deli   \n",
       "319        PURCHASE             211.22        211.22  South Steakhouse #73819   \n",
       "324        PURCHASE              43.25         43.25         34th BBQ #166379   \n",
       "\n",
       "             merchant_lagged  \n",
       "56             Fresh Flowers  \n",
       "233              Franks Deli  \n",
       "234              Franks Deli  \n",
       "319  South Steakhouse #73819  \n",
       "324         34th BBQ #166379  "
      ]
     },
     "execution_count": 279,
     "metadata": {},
     "output_type": "execute_result"
    }
   ],
   "source": [
    "print(multi_swipe.shape[0])\n",
    "multi_swipe.head()"
   ]
  },
  {
   "cell_type": "code",
   "execution_count": 280,
   "metadata": {},
   "outputs": [
    {
     "data": {
      "text/plain": [
       "0    7246\n",
       "1     126\n",
       "Name: isFraud, dtype: int64"
      ]
     },
     "execution_count": 280,
     "metadata": {},
     "output_type": "execute_result"
    }
   ],
   "source": [
    "multi_swipe.isFraud.value_counts()"
   ]
  },
  {
   "cell_type": "markdown",
   "metadata": {},
   "source": [
    "- That is a good bit of fraudulent labaled multi-swipes. If this is a form of \"fraud\", it could be worth introducing a rules-based check to flag these as opposed to a model since it's straight forward"
   ]
  },
  {
   "cell_type": "markdown",
   "metadata": {},
   "source": [
    "**Removing duplicates identified**"
   ]
  },
  {
   "cell_type": "code",
   "execution_count": 281,
   "metadata": {},
   "outputs": [],
   "source": [
    "processed_df = pd.merge(raw_df, multi_swipe[['accountNumber','transactionDateTime', 'trans_lagged']],\n",
    "                        how = \"left\", on = ['accountNumber','transactionDateTime']\n",
    "                       )"
   ]
  },
  {
   "cell_type": "code",
   "execution_count": 282,
   "metadata": {},
   "outputs": [],
   "source": [
    "processed_df = pd.merge(processed_df, reversed_transactions[['accountNumber','transactionDateTime', 'last2_trans']],\n",
    "                        how = \"left\", on = ['accountNumber','transactionDateTime']\n",
    "                       )"
   ]
  },
  {
   "cell_type": "code",
   "execution_count": 283,
   "metadata": {},
   "outputs": [],
   "source": [
    "#Filtering to only the rows where matches with dups were not identified\n",
    "processed_df = processed_df[(processed_df['trans_lagged'].isnull()) & (processed_df['last2_trans'].isnull())]"
   ]
  },
  {
   "cell_type": "code",
   "execution_count": 284,
   "metadata": {},
   "outputs": [],
   "source": [
    "processed_df.drop(['trans_lagged', 'last2_trans'], axis=1, inplace=True)\n"
   ]
  },
  {
   "cell_type": "code",
   "execution_count": 285,
   "metadata": {},
   "outputs": [
    {
     "name": "stdout",
     "output_type": "stream",
     "text": [
      "Number of what appears remaning duplicates: 78\n"
     ]
    },
    {
     "data": {
      "text/html": [
       "<div>\n",
       "<style scoped>\n",
       "    .dataframe tbody tr th:only-of-type {\n",
       "        vertical-align: middle;\n",
       "    }\n",
       "\n",
       "    .dataframe tbody tr th {\n",
       "        vertical-align: top;\n",
       "    }\n",
       "\n",
       "    .dataframe thead th {\n",
       "        text-align: right;\n",
       "    }\n",
       "</style>\n",
       "<table border=\"1\" class=\"dataframe\">\n",
       "  <thead>\n",
       "    <tr style=\"text-align: right;\">\n",
       "      <th></th>\n",
       "      <th>accountNumber</th>\n",
       "      <th>customerId</th>\n",
       "      <th>creditLimit</th>\n",
       "      <th>availableMoney</th>\n",
       "      <th>transactionDateTime</th>\n",
       "      <th>transactionAmount</th>\n",
       "      <th>merchantName</th>\n",
       "      <th>acqCountry</th>\n",
       "      <th>merchantCountryCode</th>\n",
       "      <th>posEntryMode</th>\n",
       "      <th>...</th>\n",
       "      <th>cardLast4Digits</th>\n",
       "      <th>transactionType</th>\n",
       "      <th>currentBalance</th>\n",
       "      <th>cardPresent</th>\n",
       "      <th>expirationDateKeyInMatch</th>\n",
       "      <th>isFraud</th>\n",
       "      <th>transaction_Day</th>\n",
       "      <th>transaction_Week</th>\n",
       "      <th>transaction_Month</th>\n",
       "      <th>transaction_Quarter</th>\n",
       "    </tr>\n",
       "  </thead>\n",
       "  <tbody>\n",
       "    <tr>\n",
       "      <th>14267</th>\n",
       "      <td>893468720</td>\n",
       "      <td>893468720</td>\n",
       "      <td>7500.0</td>\n",
       "      <td>3372.89</td>\n",
       "      <td>2016-11-08 01:42:26</td>\n",
       "      <td>4.27</td>\n",
       "      <td>Apple iTunes</td>\n",
       "      <td>US</td>\n",
       "      <td>US</td>\n",
       "      <td>02</td>\n",
       "      <td>...</td>\n",
       "      <td>7784</td>\n",
       "      <td>PURCHASE</td>\n",
       "      <td>4127.11</td>\n",
       "      <td>0</td>\n",
       "      <td>0</td>\n",
       "      <td>0</td>\n",
       "      <td>2016-11-08</td>\n",
       "      <td>45</td>\n",
       "      <td>11</td>\n",
       "      <td>4</td>\n",
       "    </tr>\n",
       "    <tr>\n",
       "      <th>14268</th>\n",
       "      <td>893468720</td>\n",
       "      <td>893468720</td>\n",
       "      <td>7500.0</td>\n",
       "      <td>3368.62</td>\n",
       "      <td>2016-11-08 01:42:26</td>\n",
       "      <td>2.09</td>\n",
       "      <td>Rodeway Inn #268900</td>\n",
       "      <td>US</td>\n",
       "      <td>US</td>\n",
       "      <td>02</td>\n",
       "      <td>...</td>\n",
       "      <td>7784</td>\n",
       "      <td>PURCHASE</td>\n",
       "      <td>4131.38</td>\n",
       "      <td>0</td>\n",
       "      <td>0</td>\n",
       "      <td>0</td>\n",
       "      <td>2016-11-08</td>\n",
       "      <td>45</td>\n",
       "      <td>11</td>\n",
       "      <td>4</td>\n",
       "    </tr>\n",
       "    <tr>\n",
       "      <th>53149</th>\n",
       "      <td>246251253</td>\n",
       "      <td>246251253</td>\n",
       "      <td>5000.0</td>\n",
       "      <td>2838.87</td>\n",
       "      <td>2016-05-14 20:19:25</td>\n",
       "      <td>124.10</td>\n",
       "      <td>Wendys #686604</td>\n",
       "      <td>US</td>\n",
       "      <td>US</td>\n",
       "      <td>09</td>\n",
       "      <td>...</td>\n",
       "      <td>6002</td>\n",
       "      <td>PURCHASE</td>\n",
       "      <td>2161.13</td>\n",
       "      <td>1</td>\n",
       "      <td>0</td>\n",
       "      <td>0</td>\n",
       "      <td>2016-05-14</td>\n",
       "      <td>19</td>\n",
       "      <td>5</td>\n",
       "      <td>2</td>\n",
       "    </tr>\n",
       "    <tr>\n",
       "      <th>53150</th>\n",
       "      <td>246251253</td>\n",
       "      <td>246251253</td>\n",
       "      <td>5000.0</td>\n",
       "      <td>2714.77</td>\n",
       "      <td>2016-05-14 20:19:25</td>\n",
       "      <td>133.98</td>\n",
       "      <td>amazon.com</td>\n",
       "      <td>US</td>\n",
       "      <td>US</td>\n",
       "      <td>05</td>\n",
       "      <td>...</td>\n",
       "      <td>6002</td>\n",
       "      <td>PURCHASE</td>\n",
       "      <td>2285.23</td>\n",
       "      <td>0</td>\n",
       "      <td>0</td>\n",
       "      <td>0</td>\n",
       "      <td>2016-05-14</td>\n",
       "      <td>19</td>\n",
       "      <td>5</td>\n",
       "      <td>2</td>\n",
       "    </tr>\n",
       "    <tr>\n",
       "      <th>53956</th>\n",
       "      <td>246251253</td>\n",
       "      <td>246251253</td>\n",
       "      <td>5000.0</td>\n",
       "      <td>1141.33</td>\n",
       "      <td>2016-06-12 20:20:22</td>\n",
       "      <td>186.28</td>\n",
       "      <td>cheapfast.com</td>\n",
       "      <td>US</td>\n",
       "      <td>US</td>\n",
       "      <td>02</td>\n",
       "      <td>...</td>\n",
       "      <td>6002</td>\n",
       "      <td>PURCHASE</td>\n",
       "      <td>3858.67</td>\n",
       "      <td>0</td>\n",
       "      <td>0</td>\n",
       "      <td>0</td>\n",
       "      <td>2016-06-12</td>\n",
       "      <td>23</td>\n",
       "      <td>6</td>\n",
       "      <td>2</td>\n",
       "    </tr>\n",
       "  </tbody>\n",
       "</table>\n",
       "<p>5 rows × 27 columns</p>\n",
       "</div>"
      ],
      "text/plain": [
       "      accountNumber customerId  creditLimit  availableMoney  \\\n",
       "14267     893468720  893468720       7500.0         3372.89   \n",
       "14268     893468720  893468720       7500.0         3368.62   \n",
       "53149     246251253  246251253       5000.0         2838.87   \n",
       "53150     246251253  246251253       5000.0         2714.77   \n",
       "53956     246251253  246251253       5000.0         1141.33   \n",
       "\n",
       "      transactionDateTime  transactionAmount         merchantName acqCountry  \\\n",
       "14267 2016-11-08 01:42:26               4.27         Apple iTunes         US   \n",
       "14268 2016-11-08 01:42:26               2.09  Rodeway Inn #268900         US   \n",
       "53149 2016-05-14 20:19:25             124.10       Wendys #686604         US   \n",
       "53150 2016-05-14 20:19:25             133.98           amazon.com         US   \n",
       "53956 2016-06-12 20:20:22             186.28        cheapfast.com         US   \n",
       "\n",
       "      merchantCountryCode posEntryMode  ... cardLast4Digits transactionType  \\\n",
       "14267                  US           02  ...            7784        PURCHASE   \n",
       "14268                  US           02  ...            7784        PURCHASE   \n",
       "53149                  US           09  ...            6002        PURCHASE   \n",
       "53150                  US           05  ...            6002        PURCHASE   \n",
       "53956                  US           02  ...            6002        PURCHASE   \n",
       "\n",
       "      currentBalance cardPresent expirationDateKeyInMatch isFraud  \\\n",
       "14267        4127.11           0                        0       0   \n",
       "14268        4131.38           0                        0       0   \n",
       "53149        2161.13           1                        0       0   \n",
       "53150        2285.23           0                        0       0   \n",
       "53956        3858.67           0                        0       0   \n",
       "\n",
       "      transaction_Day transaction_Week transaction_Month  transaction_Quarter  \n",
       "14267      2016-11-08               45                11                    4  \n",
       "14268      2016-11-08               45                11                    4  \n",
       "53149      2016-05-14               19                 5                    2  \n",
       "53150      2016-05-14               19                 5                    2  \n",
       "53956      2016-06-12               23                 6                    2  \n",
       "\n",
       "[5 rows x 27 columns]"
      ]
     },
     "execution_count": 285,
     "metadata": {},
     "output_type": "execute_result"
    }
   ],
   "source": [
    "remaining_dups = processed_df[processed_df[['accountNumber','transactionDateTime']].duplicated(keep=False)]\n",
    "print(\"Number of what appears remaning duplicates: {}\".format(remaining_dups.shape[0]))\n",
    "remaining_dups.head()"
   ]
  },
  {
   "cell_type": "code",
   "execution_count": 286,
   "metadata": {},
   "outputs": [
    {
     "data": {
      "text/plain": [
       "0    77\n",
       "1     1\n",
       "Name: isFraud, dtype: int64"
      ]
     },
     "execution_count": 286,
     "metadata": {},
     "output_type": "execute_result"
    }
   ],
   "source": [
    "remaining_dups.isFraud.value_counts()"
   ]
  },
  {
   "cell_type": "markdown",
   "metadata": {},
   "source": [
    "- There are transactions that occurred at the same time but come from different merchants which could be possible (i.e., online and physical purchase)"
   ]
  },
  {
   "cell_type": "markdown",
   "metadata": {},
   "source": [
    "## Modeling"
   ]
  },
  {
   "cell_type": "markdown",
   "metadata": {},
   "source": [
    "### Feature Engineering"
   ]
  },
  {
   "cell_type": "markdown",
   "metadata": {},
   "source": [
    "**Identifying if the card last 4 digits were inputed correctly**"
   ]
  },
  {
   "cell_type": "code",
   "execution_count": 287,
   "metadata": {},
   "outputs": [],
   "source": [
    "processed_df['bad_cardCVV'] = np.where(processed_df.cardCVV != processed_df.enteredCVV, 1 ,0)"
   ]
  },
  {
   "cell_type": "code",
   "execution_count": 288,
   "metadata": {},
   "outputs": [
    {
     "data": {
      "text/plain": [
       "0    772041\n",
       "1      6942\n",
       "Name: bad_cardCVV, dtype: int64"
      ]
     },
     "execution_count": 288,
     "metadata": {},
     "output_type": "execute_result"
    }
   ],
   "source": [
    "processed_df.bad_cardCVV.value_counts()"
   ]
  },
  {
   "cell_type": "code",
   "execution_count": 289,
   "metadata": {},
   "outputs": [
    {
     "data": {
      "text/plain": [
       "bad_cardCVV\n",
       "0    0.015661\n",
       "1    0.028666\n",
       "Name: isFraud, dtype: float64"
      ]
     },
     "execution_count": 289,
     "metadata": {},
     "output_type": "execute_result"
    }
   ],
   "source": [
    "processed_df.groupby('bad_cardCVV')['isFraud'].mean()"
   ]
  },
  {
   "cell_type": "markdown",
   "metadata": {},
   "source": [
    "- There some instances and they seem to indicate a higher chance of fraud"
   ]
  },
  {
   "cell_type": "markdown",
   "metadata": {},
   "source": [
    "**Features for deltas between transaction time and key credit card dates**"
   ]
  },
  {
   "cell_type": "code",
   "execution_count": 290,
   "metadata": {},
   "outputs": [],
   "source": [
    "processed_df['days_sinceAddressChange'] = (processed_df['transaction_Day'] - \\\n",
    "    pd.to_datetime(processed_df['dateOfLastAddressChange']).dt.date).dt.days\n",
    "\n",
    "processed_df['days_sinceOpenAcc'] = (processed_df['transaction_Day']- \\\n",
    "    pd.to_datetime(processed_df['accountOpenDate']).dt.date).dt.days\n",
    "\n",
    "processed_df['days_fromExp'] = (pd.to_datetime(processed_df['currentExpDate']).dt.date - \\\n",
    "    processed_df['transaction_Day']).dt.days\n"
   ]
  },
  {
   "cell_type": "markdown",
   "metadata": {},
   "source": [
    "Analyzing relationship between new features and fraud"
   ]
  },
  {
   "cell_type": "code",
   "execution_count": 291,
   "metadata": {},
   "outputs": [
    {
     "data": {
      "image/png": "[encoded data removed]",
      "text/plain": [
       "<Figure size 432x288 with 1 Axes>"
      ]
     },
     "metadata": {
      "needs_background": "light"
     },
     "output_type": "display_data"
    },
    {
     "data": {
      "image/png": "[encoded data removed]",
      "text/plain": [
       "<Figure size 432x288 with 1 Axes>"
      ]
     },
     "metadata": {
      "needs_background": "light"
     },
     "output_type": "display_data"
    },
    {
     "data": {
      "image/png": "[encoded data removed]",
      "text/plain": [
       "<Figure size 432x288 with 1 Axes>"
      ]
     },
     "metadata": {
      "needs_background": "light"
     },
     "output_type": "display_data"
    }
   ],
   "source": [
    "tmp = pd.DataFrame()\n",
    "for i in ['days_sinceAddressChange','days_sinceOpenAcc', 'days_fromExp']:\n",
    "    \n",
    "    processed_df['ntile'] = pd.qcut(processed_df[i], 4, labels=False)\n",
    "\n",
    "    ntile_ranges = processed_df.groupby('ntile').agg({i:{'min', 'max', 'count'}})\n",
    "\n",
    "    ntile_ranges.columns = [\"_\".join(x) for x in ntile_ranges.columns.ravel()]\n",
    "\n",
    "    ranges = [((round(j[1][i+\"_min\"], 2), round(j[1][i+\"_max\"], 2))) for j in ntile_ranges.iterrows()] \n",
    "\n",
    "    \n",
    "    ax = processed_df.groupby('ntile')['isFraud'].mean().plot(label='category: {}'.format(i))\n",
    "        \n",
    "    ax.set_title(\"{} vs Fraud\".format(i))\n",
    "    ax.set_xlabel(\"{} quartile ranges\".format(i))\n",
    "    ax.set_ylabel(\"Mean Fraud\")\n",
    "    plt.xticks(list(range(len(ranges))), ranges, rotation = 70)\n",
    "    \n",
    "    del processed_df['ntile']\n",
    "\n",
    "    plt.show()\n",
    "\n",
    "\n"
   ]
  },
  {
   "cell_type": "markdown",
   "metadata": {},
   "source": [
    "- The less days since address change, the more fraud\n",
    "- The more days form expiration the more fraud - maybe because people are creating new fradulent cards with new expirations?\n",
    "- Days since open account has a more complex non-linear relationship"
   ]
  },
  {
   "cell_type": "markdown",
   "metadata": {},
   "source": [
    "**Fraud patterns per hour**"
   ]
  },
  {
   "cell_type": "code",
   "execution_count": 292,
   "metadata": {},
   "outputs": [],
   "source": [
    "processed_df['hour'] = processed_df['transactionDateTime'].dt.hour"
   ]
  },
  {
   "cell_type": "code",
   "execution_count": 293,
   "metadata": {},
   "outputs": [
    {
     "data": {
      "text/plain": [
       "<matplotlib.axes._subplots.AxesSubplot at 0x7fa022c3ead0>"
      ]
     },
     "execution_count": 293,
     "metadata": {},
     "output_type": "execute_result"
    },
    {
     "data": {
      "image/png": "[encoded data removed]",
      "text/plain": [
       "<Figure size 432x288 with 1 Axes>"
      ]
     },
     "metadata": {
      "needs_background": "light"
     },
     "output_type": "display_data"
    }
   ],
   "source": [
    "processed_df.groupby(['hour'])['isFraud'].mean().plot.bar()"
   ]
  },
  {
   "cell_type": "code",
   "execution_count": 294,
   "metadata": {},
   "outputs": [],
   "source": [
    "processed_df['hour_sin'] = np.sin(2* np.pi * processed_df['hour']/23.0)\n",
    "processed_df['hour_cos'] = np.cos(2* np.pi * processed_df['hour']/23.0)"
   ]
  },
  {
   "cell_type": "code",
   "execution_count": 295,
   "metadata": {},
   "outputs": [],
   "source": [
    "del processed_df['hour'] "
   ]
  },
  {
   "cell_type": "markdown",
   "metadata": {},
   "source": [
    "- There seems to be a patternso hour features are created using sine and cosine encoding"
   ]
  },
  {
   "cell_type": "markdown",
   "metadata": {},
   "source": [
    "**Number of credict cards per account number**"
   ]
  },
  {
   "cell_type": "code",
   "execution_count": 296,
   "metadata": {},
   "outputs": [
    {
     "data": {
      "text/plain": [
       "count    5000.000000\n",
       "mean        1.476000\n",
       "std         0.686963\n",
       "min         1.000000\n",
       "25%         1.000000\n",
       "50%         1.000000\n",
       "75%         2.000000\n",
       "max         6.000000\n",
       "Name: cardLast4Digits, dtype: float64"
      ]
     },
     "execution_count": 296,
     "metadata": {},
     "output_type": "execute_result"
    }
   ],
   "source": [
    "processed_df.groupby('accountNumber')['cardLast4Digits'].nunique().describe()"
   ]
  },
  {
   "cell_type": "code",
   "execution_count": 297,
   "metadata": {},
   "outputs": [],
   "source": [
    "processed_df['num_cards'] = processed_df['accountNumber'].map(\n",
    "    processed_df.groupby('accountNumber')['cardLast4Digits'].nunique().to_dict())"
   ]
  },
  {
   "cell_type": "code",
   "execution_count": 298,
   "metadata": {},
   "outputs": [
    {
     "data": {
      "text/plain": [
       "num_cards\n",
       "1    0.015548\n",
       "2    0.016973\n",
       "3    0.013054\n",
       "4    0.012327\n",
       "5    0.020661\n",
       "6    0.000000\n",
       "Name: isFraud, dtype: float64"
      ]
     },
     "execution_count": 298,
     "metadata": {},
     "output_type": "execute_result"
    }
   ],
   "source": [
    "processed_df.groupby(['num_cards'])['isFraud'].mean()"
   ]
  },
  {
   "cell_type": "markdown",
   "metadata": {},
   "source": [
    "- It appears that some users had up to 6 cards, I assume these could of course be a result of updates or lost credit cards which is a limitation for this feature\n",
    "- There doesn't seem to be a clear fraud pattern as a function of the number of cards"
   ]
  },
  {
   "cell_type": "markdown",
   "metadata": {},
   "source": [
    "**Previous transactions and running total per month and per week**"
   ]
  },
  {
   "cell_type": "code",
   "execution_count": 299,
   "metadata": {},
   "outputs": [],
   "source": [
    "processed_df = processed_df.sort_values(\"transactionDateTime\", ascending=True)\n",
    "\n",
    "processed_df['nPrior_transactions_pDay'] = processed_df\\\n",
    "    .groupby(['accountNumber', 'transaction_Day'])['transaction_Day'].cumcount()\n",
    "\n",
    "processed_df['nPrior_transactions_pWeek'] = processed_df\\\n",
    "    .groupby(['accountNumber', 'transaction_Week'])['transaction_Week'].cumcount()\n",
    "\n",
    "processed_df['nPrior_transactions_pMonth'] = processed_df\\\n",
    "    .groupby(['accountNumber', 'transaction_Month'])['transaction_Month'].cumcount()\n",
    "\n",
    "processed_df['prior_transtot_pday'] = processed_df\\\n",
    "    .groupby(['accountNumber', 'transaction_Day'])['transactionAmount'].cumsum() \n",
    "\n",
    "\n",
    "processed_df['prior_transtot_pweek'] = processed_df\\\n",
    "    .groupby(['accountNumber', 'transaction_Week'])['transactionAmount'].cumsum() \n",
    "\n",
    "processed_df['prior_transtot_pmonth'] = processed_df\\\n",
    "    .groupby(['accountNumber', 'transaction_Month'])['transactionAmount'].cumsum() "
   ]
  },
  {
   "cell_type": "markdown",
   "metadata": {},
   "source": [
    "**Features to capture if the previous merchant and country codes were the same as the current ones**"
   ]
  },
  {
   "cell_type": "code",
   "execution_count": 300,
   "metadata": {},
   "outputs": [],
   "source": [
    "processed_df[['last_aqcode', 'last_merchantcode' ]] = processed_df.sort_values(\"transactionDateTime\", ascending=True)\\\n",
    "    .groupby(['accountNumber'])[['acqCountry', 'merchantCountryCode']].shift(1)\n",
    "\n",
    "processed_df[['acqCountry', 'merchantCountryCode']].replace(np.nan, \"None\", inplace =True)\n",
    "\n",
    "processed_df['same_aqcode_last'] = np.where((processed_df['acqCountry'] == processed_df['last_aqcode']) |\n",
    "                                            (processed_df['last_aqcode'].isnull()),1, 0)\n",
    "             \n",
    "processed_df['same_merchantcode_last'] = np.where((processed_df['merchantCountryCode'] == \n",
    "                                                   processed_df['last_merchantcode']) |\n",
    "                                            (processed_df['last_merchantcode'].isnull()),1, 0)\n",
    "\n",
    "\n",
    "processed_df[['acqCountry', 'merchantCountryCode']].replace(\"None\", np.nan, inplace =True)\n",
    "\n",
    "\n",
    "del processed_df['last_aqcode'], processed_df['last_merchantcode']"
   ]
  },
  {
   "cell_type": "code",
   "execution_count": 301,
   "metadata": {},
   "outputs": [
    {
     "data": {
      "text/plain": [
       "1    764692\n",
       "0     14291\n",
       "Name: same_merchantcode_last, dtype: int64"
      ]
     },
     "execution_count": 301,
     "metadata": {},
     "output_type": "execute_result"
    }
   ],
   "source": [
    "processed_df['same_merchantcode_last'].value_counts()"
   ]
  },
  {
   "cell_type": "code",
   "execution_count": 302,
   "metadata": {},
   "outputs": [
    {
     "data": {
      "text/plain": [
       "1    761126\n",
       "0     17857\n",
       "Name: same_aqcode_last, dtype: int64"
      ]
     },
     "execution_count": 302,
     "metadata": {},
     "output_type": "execute_result"
    }
   ],
   "source": [
    "processed_df['same_aqcode_last'].value_counts()"
   ]
  },
  {
   "cell_type": "markdown",
   "metadata": {},
   "source": [
    "**Features that capture the delta between the transaction value and the moving average over a window**"
   ]
  },
  {
   "cell_type": "code",
   "execution_count": 303,
   "metadata": {},
   "outputs": [],
   "source": [
    "def delta_from_ma(df, windows):\n",
    "    \n",
    "    for i in windows:\n",
    "        \n",
    "        col_name = 'ma_'+ str(i)\n",
    "        processed_df[col_name] = processed_df['transactionAmount'] - \\\n",
    "            processed_df.sort_values(\"transactionDateTime\", ascending=True)\\\n",
    "            .groupby(['accountNumber'])['transactionAmount'].rolling(i).mean().reset_index(0,drop=True)\n",
    "        \n",
    "        #If it's too early in the cycle to compute, set delta as 0\n",
    "        processed_df[col_name] = np.where(processed_df[col_name].isnull() ,0,\n",
    "                               processed_df[col_name])\n",
    "        \n",
    "    return processed_df"
   ]
  },
  {
   "cell_type": "code",
   "execution_count": 307,
   "metadata": {},
   "outputs": [],
   "source": [
    "processed_df = delta_from_ma(processed_df, [2, 5, 20, 40, 80])"
   ]
  },
  {
   "cell_type": "markdown",
   "metadata": {},
   "source": [
    "**Time between current and last transaction and moving average**"
   ]
  },
  {
   "cell_type": "code",
   "execution_count": 308,
   "metadata": {},
   "outputs": [],
   "source": [
    "processed_df['time_from_last'] = processed_df.sort_values(\"transactionDateTime\", ascending=True)\\\n",
    "    .groupby(['accountNumber'])['transactionDateTime'].diff(1) / np.timedelta64(1, 'h')\n",
    "\n",
    "#If it's the 1st transactin for the account, impute with the mean\n",
    "processed_df['time_from_last'].replace(np.nan, processed_df['time_from_last'].mean(), inplace = True)\n",
    "\n",
    "processed_df['time_from_last_ma_5'] = processed_df.sort_values(\"transactionDateTime\", ascending=True)\\\n",
    "    .groupby(['accountNumber'])['time_from_last'].rolling(5).mean().reset_index(0,drop=True)\n",
    "\n",
    "#If it's too early in the cycle to compute the rolling avg, impute with the current time from last\n",
    "processed_df['time_from_last_ma_5'] = np.where(processed_df['time_from_last_ma_5'].isnull() ,\n",
    "                                               processed_df['time_from_last'],\n",
    "                               processed_df['time_from_last_ma_5'])"
   ]
  },
  {
   "cell_type": "code",
   "execution_count": 309,
   "metadata": {},
   "outputs": [
    {
     "data": {
      "text/plain": [
       "count    778983.000000\n",
       "mean         51.397171\n",
       "std         148.944764\n",
       "min           0.000000\n",
       "25%           1.960556\n",
       "50%           9.773056\n",
       "75%          41.135694\n",
       "max        7875.848889\n",
       "Name: time_from_last, dtype: float64"
      ]
     },
     "execution_count": 309,
     "metadata": {},
     "output_type": "execute_result"
    }
   ],
   "source": [
    "processed_df['time_from_last'].describe()"
   ]
  },
  {
   "cell_type": "markdown",
   "metadata": {},
   "source": [
    "- It looks like the time between transactions can vary a lot as expected"
   ]
  },
  {
   "cell_type": "markdown",
   "metadata": {},
   "source": [
    "Check dataframe and ispect new cumulative / time-based features"
   ]
  },
  {
   "cell_type": "code",
   "execution_count": 310,
   "metadata": {},
   "outputs": [
    {
     "data": {
      "text/html": [
       "<div>\n",
       "<style scoped>\n",
       "    .dataframe tbody tr th:only-of-type {\n",
       "        vertical-align: middle;\n",
       "    }\n",
       "\n",
       "    .dataframe tbody tr th {\n",
       "        vertical-align: top;\n",
       "    }\n",
       "\n",
       "    .dataframe thead th {\n",
       "        text-align: right;\n",
       "    }\n",
       "</style>\n",
       "<table border=\"1\" class=\"dataframe\">\n",
       "  <thead>\n",
       "    <tr style=\"text-align: right;\">\n",
       "      <th></th>\n",
       "      <th>accountNumber</th>\n",
       "      <th>transactionDateTime</th>\n",
       "      <th>transaction_Day</th>\n",
       "      <th>transaction_Week</th>\n",
       "      <th>transactionAmount</th>\n",
       "      <th>prior_transtot_pday</th>\n",
       "      <th>time_from_last</th>\n",
       "      <th>time_from_last_ma_5</th>\n",
       "      <th>same_merchantcode_last</th>\n",
       "    </tr>\n",
       "  </thead>\n",
       "  <tbody>\n",
       "    <tr>\n",
       "      <th>541900</th>\n",
       "      <td>100088067</td>\n",
       "      <td>2016-01-12 00:59:52</td>\n",
       "      <td>2016-01-12</td>\n",
       "      <td>2</td>\n",
       "      <td>205.13</td>\n",
       "      <td>205.13</td>\n",
       "      <td>51.397171</td>\n",
       "      <td>51.397171</td>\n",
       "      <td>1</td>\n",
       "    </tr>\n",
       "    <tr>\n",
       "      <th>541901</th>\n",
       "      <td>100088067</td>\n",
       "      <td>2016-01-12 19:49:41</td>\n",
       "      <td>2016-01-12</td>\n",
       "      <td>2</td>\n",
       "      <td>46.43</td>\n",
       "      <td>251.56</td>\n",
       "      <td>18.830278</td>\n",
       "      <td>18.830278</td>\n",
       "      <td>1</td>\n",
       "    </tr>\n",
       "    <tr>\n",
       "      <th>541902</th>\n",
       "      <td>100088067</td>\n",
       "      <td>2016-01-17 15:41:46</td>\n",
       "      <td>2016-01-17</td>\n",
       "      <td>2</td>\n",
       "      <td>378.67</td>\n",
       "      <td>378.67</td>\n",
       "      <td>115.868056</td>\n",
       "      <td>115.868056</td>\n",
       "      <td>1</td>\n",
       "    </tr>\n",
       "    <tr>\n",
       "      <th>541903</th>\n",
       "      <td>100088067</td>\n",
       "      <td>2016-02-02 19:57:18</td>\n",
       "      <td>2016-02-02</td>\n",
       "      <td>5</td>\n",
       "      <td>66.07</td>\n",
       "      <td>66.07</td>\n",
       "      <td>388.258889</td>\n",
       "      <td>388.258889</td>\n",
       "      <td>1</td>\n",
       "    </tr>\n",
       "    <tr>\n",
       "      <th>541904</th>\n",
       "      <td>100088067</td>\n",
       "      <td>2016-02-03 04:48:54</td>\n",
       "      <td>2016-02-03</td>\n",
       "      <td>5</td>\n",
       "      <td>141.60</td>\n",
       "      <td>141.60</td>\n",
       "      <td>8.860000</td>\n",
       "      <td>116.642879</td>\n",
       "      <td>1</td>\n",
       "    </tr>\n",
       "    <tr>\n",
       "      <th>541905</th>\n",
       "      <td>100088067</td>\n",
       "      <td>2016-02-08 06:09:12</td>\n",
       "      <td>2016-02-08</td>\n",
       "      <td>6</td>\n",
       "      <td>259.44</td>\n",
       "      <td>259.44</td>\n",
       "      <td>121.338333</td>\n",
       "      <td>130.631111</td>\n",
       "      <td>1</td>\n",
       "    </tr>\n",
       "    <tr>\n",
       "      <th>541906</th>\n",
       "      <td>100088067</td>\n",
       "      <td>2016-02-09 18:36:53</td>\n",
       "      <td>2016-02-09</td>\n",
       "      <td>6</td>\n",
       "      <td>32.50</td>\n",
       "      <td>32.50</td>\n",
       "      <td>36.461389</td>\n",
       "      <td>134.157333</td>\n",
       "      <td>1</td>\n",
       "    </tr>\n",
       "    <tr>\n",
       "      <th>541907</th>\n",
       "      <td>100088067</td>\n",
       "      <td>2016-02-09 23:44:13</td>\n",
       "      <td>2016-02-09</td>\n",
       "      <td>6</td>\n",
       "      <td>23.06</td>\n",
       "      <td>55.56</td>\n",
       "      <td>5.122222</td>\n",
       "      <td>112.008167</td>\n",
       "      <td>1</td>\n",
       "    </tr>\n",
       "    <tr>\n",
       "      <th>541908</th>\n",
       "      <td>100088067</td>\n",
       "      <td>2016-02-13 20:17:41</td>\n",
       "      <td>2016-02-13</td>\n",
       "      <td>6</td>\n",
       "      <td>56.05</td>\n",
       "      <td>56.05</td>\n",
       "      <td>92.557778</td>\n",
       "      <td>52.867944</td>\n",
       "      <td>1</td>\n",
       "    </tr>\n",
       "    <tr>\n",
       "      <th>541909</th>\n",
       "      <td>100088067</td>\n",
       "      <td>2016-02-21 01:14:56</td>\n",
       "      <td>2016-02-21</td>\n",
       "      <td>7</td>\n",
       "      <td>71.35</td>\n",
       "      <td>71.35</td>\n",
       "      <td>172.954167</td>\n",
       "      <td>85.686778</td>\n",
       "      <td>1</td>\n",
       "    </tr>\n",
       "  </tbody>\n",
       "</table>\n",
       "</div>"
      ],
      "text/plain": [
       "       accountNumber transactionDateTime transaction_Day  transaction_Week  \\\n",
       "541900     100088067 2016-01-12 00:59:52      2016-01-12                 2   \n",
       "541901     100088067 2016-01-12 19:49:41      2016-01-12                 2   \n",
       "541902     100088067 2016-01-17 15:41:46      2016-01-17                 2   \n",
       "541903     100088067 2016-02-02 19:57:18      2016-02-02                 5   \n",
       "541904     100088067 2016-02-03 04:48:54      2016-02-03                 5   \n",
       "541905     100088067 2016-02-08 06:09:12      2016-02-08                 6   \n",
       "541906     100088067 2016-02-09 18:36:53      2016-02-09                 6   \n",
       "541907     100088067 2016-02-09 23:44:13      2016-02-09                 6   \n",
       "541908     100088067 2016-02-13 20:17:41      2016-02-13                 6   \n",
       "541909     100088067 2016-02-21 01:14:56      2016-02-21                 7   \n",
       "\n",
       "        transactionAmount  prior_transtot_pday  time_from_last  \\\n",
       "541900             205.13               205.13       51.397171   \n",
       "541901              46.43               251.56       18.830278   \n",
       "541902             378.67               378.67      115.868056   \n",
       "541903              66.07                66.07      388.258889   \n",
       "541904             141.60               141.60        8.860000   \n",
       "541905             259.44               259.44      121.338333   \n",
       "541906              32.50                32.50       36.461389   \n",
       "541907              23.06                55.56        5.122222   \n",
       "541908              56.05                56.05       92.557778   \n",
       "541909              71.35                71.35      172.954167   \n",
       "\n",
       "        time_from_last_ma_5  same_merchantcode_last  \n",
       "541900            51.397171                       1  \n",
       "541901            18.830278                       1  \n",
       "541902           115.868056                       1  \n",
       "541903           388.258889                       1  \n",
       "541904           116.642879                       1  \n",
       "541905           130.631111                       1  \n",
       "541906           134.157333                       1  \n",
       "541907           112.008167                       1  \n",
       "541908            52.867944                       1  \n",
       "541909            85.686778                       1  "
      ]
     },
     "execution_count": 310,
     "metadata": {},
     "output_type": "execute_result"
    }
   ],
   "source": [
    "processed_df[['accountNumber', 'transactionDateTime', 'transaction_Day', \n",
    "              'transaction_Week', 'transactionAmount',\n",
    "              'prior_transtot_pday', 'time_from_last',\n",
    "              'time_from_last_ma_5', 'same_merchantcode_last'\n",
    "             ]].sort_values([\"accountNumber\", \"transactionDateTime\"]).head(10)"
   ]
  },
  {
   "cell_type": "markdown",
   "metadata": {},
   "source": [
    "- Looks right!"
   ]
  },
  {
   "cell_type": "markdown",
   "metadata": {},
   "source": [
    "### Missing values"
   ]
  },
  {
   "cell_type": "markdown",
   "metadata": {},
   "source": [
    "Take a look at the missing values per column again"
   ]
  },
  {
   "cell_type": "code",
   "execution_count": 311,
   "metadata": {},
   "outputs": [
    {
     "data": {
      "text/plain": [
       "acqCountry             4562\n",
       "merchantCountryCode     724\n",
       "posEntryMode           4054\n",
       "posConditionCode        409\n",
       "transactionType         698\n",
       "dtype: int64"
      ]
     },
     "execution_count": 311,
     "metadata": {},
     "output_type": "execute_result"
    }
   ],
   "source": [
    "some_missing_cols"
   ]
  },
  {
   "cell_type": "code",
   "execution_count": 312,
   "metadata": {},
   "outputs": [
    {
     "data": {
      "text/plain": [
       "<matplotlib.axes._subplots.AxesSubplot at 0x7fa0301cf810>"
      ]
     },
     "execution_count": 312,
     "metadata": {},
     "output_type": "execute_result"
    },
    {
     "data": {
      "image/png": "[encoded data removed]",
      "text/plain": [
       "<Figure size 1440x864 with 2 Axes>"
      ]
     },
     "metadata": {
      "needs_background": "light"
     },
     "output_type": "display_data"
    }
   ],
   "source": [
    "import missingno as msno\n",
    "msno.heatmap(processed_df)"
   ]
  },
  {
   "cell_type": "code",
   "execution_count": 313,
   "metadata": {},
   "outputs": [
    {
     "name": "stdout",
     "output_type": "stream",
     "text": [
      "acqCountry Total NaN count: 4528\n",
      "\n",
      "\n",
      "acqCountry_nan\n",
      "NaN        0.032906\n",
      "Not NaN    0.015677\n",
      "Name: isFraud, dtype: float64\n",
      "\n",
      "\n",
      "\n",
      "merchantCountryCode Total NaN count: 723\n",
      "\n",
      "\n",
      "merchantCountryCode_nan\n",
      "NaN        0.113416\n",
      "Not NaN    0.015686\n",
      "Name: isFraud, dtype: float64\n",
      "\n",
      "\n",
      "\n",
      "posEntryMode Total NaN count: 4010\n",
      "\n",
      "\n",
      "posEntryMode_nan\n",
      "NaN        0.066334\n",
      "Not NaN    0.015515\n",
      "Name: isFraud, dtype: float64\n",
      "\n",
      "\n",
      "\n",
      "posConditionCode Total NaN count: 406\n",
      "\n",
      "\n",
      "posConditionCode_nan\n",
      "NaN        0.054187\n",
      "Not NaN    0.015757\n",
      "Name: isFraud, dtype: float64\n",
      "\n",
      "\n",
      "\n",
      "transactionType Total NaN count: 698\n",
      "\n",
      "\n",
      "transactionType_nan\n",
      "NaN        0.020057\n",
      "Not NaN    0.015773\n",
      "Name: isFraud, dtype: float64\n",
      "\n",
      "\n",
      "\n"
     ]
    }
   ],
   "source": [
    "for i in some_missing_cols.index:\n",
    "    \n",
    "    current_col = i + \"_nan\"\n",
    "    \n",
    "    processed_df[current_col] = np.where(processed_df[i].isnull(), \"NaN\", \"Not NaN\")\n",
    "    print('{} Total NaN count: {}'.format(i, len(processed_df[processed_df[current_col] == \"NaN\"])))\n",
    "    print('\\n')\n",
    "    print(processed_df.groupby(current_col)['isFraud'].mean())\n",
    "    \n",
    "    \n",
    "    del processed_df[current_col]\n",
    "    print('\\n\\n')\n"
   ]
  },
  {
   "cell_type": "markdown",
   "metadata": {},
   "source": [
    "- There are a very few number of values missing\n",
    "- The only apparent correlation in missingness appears to be between merchantCountrycode and acqCountry which makes sense\n",
    "- Lastly, across the board, it looks like missing values correspond to higher fraud rates"
   ]
  },
  {
   "cell_type": "markdown",
   "metadata": {},
   "source": [
    "**Create number of missing values per record feature**"
   ]
  },
  {
   "cell_type": "code",
   "execution_count": 314,
   "metadata": {},
   "outputs": [
    {
     "data": {
      "text/plain": [
       "0    769369\n",
       "1      8869\n",
       "2       739\n",
       "3         6\n",
       "Name: num_missing, dtype: int64"
      ]
     },
     "execution_count": 314,
     "metadata": {},
     "output_type": "execute_result"
    }
   ],
   "source": [
    "processed_df['num_missing'] = processed_df.isnull().sum(axis=1)\n",
    "processed_df['num_missing'].value_counts()"
   ]
  },
  {
   "cell_type": "code",
   "execution_count": 315,
   "metadata": {},
   "outputs": [
    {
     "data": {
      "text/plain": [
       "num_missing\n",
       "0    0.015392\n",
       "1    0.041042\n",
       "2    0.112314\n",
       "3    0.166667\n",
       "Name: isFraud, dtype: float64"
      ]
     },
     "execution_count": 315,
     "metadata": {},
     "output_type": "execute_result"
    }
   ],
   "source": [
    "processed_df.groupby(['num_missing'])['isFraud'].mean()"
   ]
  },
  {
   "cell_type": "markdown",
   "metadata": {},
   "source": [
    "- It does appear that the more missing values, the more fraud"
   ]
  },
  {
   "cell_type": "markdown",
   "metadata": {},
   "source": [
    "**Handling missing values**\n",
    "\n",
    "Although it appears that these values are not missing at random and a multivariate-based imputation (e.g., MICE, K-nn) would be the ideal approach, given the few values missing and the large dataset, mode imputation will be used."
   ]
  },
  {
   "cell_type": "code",
   "execution_count": 316,
   "metadata": {},
   "outputs": [],
   "source": [
    "\n",
    "def mode_impute(df, missing_cols):\n",
    "\n",
    "    for i in missing_cols:\n",
    "\n",
    "        mode = df[i].value_counts().index[0]\n",
    "\n",
    "        df[i] = df[i].replace(np.nan, mode)\n",
    "\n",
    "    \n",
    "    return df"
   ]
  },
  {
   "cell_type": "code",
   "execution_count": 317,
   "metadata": {},
   "outputs": [],
   "source": [
    "processed_df = mode_impute(processed_df, some_missing_cols.index.to_list())"
   ]
  },
  {
   "cell_type": "code",
   "execution_count": 318,
   "metadata": {},
   "outputs": [
    {
     "name": "stdout",
     "output_type": "stream",
     "text": [
      "Number of remaining missing values in dataframe 0\n"
     ]
    }
   ],
   "source": [
    "print(\"Number of remaining missing values in dataframe {}\".format(sum(processed_df.isnull().sum())))"
   ]
  },
  {
   "cell_type": "code",
   "execution_count": 319,
   "metadata": {},
   "outputs": [],
   "source": [
    "non_features = ['accountNumber', 'customerId', 'merchantName','transactionDateTime', 'currentExpDate', \n",
    "                'accountOpenDate','dateOfLastAddressChange', 'cardCVV', 'enteredCVV', 'cardLast4Digits',\n",
    "                'transaction_Day','transaction_Week', 'transaction_Month']"
   ]
  },
  {
   "cell_type": "code",
   "execution_count": 320,
   "metadata": {},
   "outputs": [],
   "source": [
    "modeling_df = processed_df[[i for i in processed_df.columns if i not in non_features]]"
   ]
  },
  {
   "cell_type": "markdown",
   "metadata": {},
   "source": [
    "### Encode categorical features"
   ]
  },
  {
   "cell_type": "code",
   "execution_count": 321,
   "metadata": {},
   "outputs": [
    {
     "data": {
      "text/plain": [
       "acqCountry               4\n",
       "merchantCountryCode      4\n",
       "posEntryMode             5\n",
       "posConditionCode         3\n",
       "merchantCategoryCode    19\n",
       "transactionType          3\n",
       "transaction_Quarter      4\n",
       "dtype: int64"
      ]
     },
     "execution_count": 321,
     "metadata": {},
     "output_type": "execute_result"
    }
   ],
   "source": [
    "obj_cols = modeling_df.columns[modeling_df.dtypes == \"object\"]\n",
    "\n",
    "modeling_df[obj_cols].nunique()"
   ]
  },
  {
   "cell_type": "markdown",
   "metadata": {},
   "source": [
    "- From the categorical features, as a first pass, handling all of them as one hot encoded features would be a good approach, except for merchantCategoryCode\n",
    "- Merchant category code has a lot of levels which could blow up the dimensions of the data and sparsity"
   ]
  },
  {
   "cell_type": "markdown",
   "metadata": {},
   "source": [
    "Analyze merchantCategoryCode frequencies and relationships with Fraud"
   ]
  },
  {
   "cell_type": "code",
   "execution_count": 322,
   "metadata": {},
   "outputs": [
    {
     "name": "stdout",
     "output_type": "stream",
     "text": [
      "online_retail           200111\n",
      "fastfood                110949\n",
      "entertainment            79242\n",
      "food                     74727\n",
      "online_gifts             65610\n",
      "rideshare                50629\n",
      "hotels                   33764\n",
      "fuel                     23910\n",
      "subscriptions            22669\n",
      "auto                     21449\n",
      "health                   18907\n",
      "personal care            18757\n",
      "airline                  15240\n",
      "mobileapps               14990\n",
      "online_subscriptions     11067\n",
      "furniture                 7371\n",
      "food_delivery             6000\n",
      "gym                       2209\n",
      "cable/phone               1382\n",
      "Name: merchantCategoryCode, dtype: int64\n"
     ]
    }
   ],
   "source": [
    "with pd.option_context('display.max_rows', None):\n",
    "    print(modeling_df.merchantCategoryCode.value_counts())#Let's look at number of unique values per column"
   ]
  },
  {
   "cell_type": "code",
   "execution_count": 323,
   "metadata": {},
   "outputs": [
    {
     "data": {
      "text/plain": [
       "<matplotlib.axes._subplots.AxesSubplot at 0x7fa03c4d0c50>"
      ]
     },
     "execution_count": 323,
     "metadata": {},
     "output_type": "execute_result"
    },
    {
     "data": {
      "image/png": "[encoded data removed]",
      "text/plain": [
       "<Figure size 432x288 with 1 Axes>"
      ]
     },
     "metadata": {
      "needs_background": "light"
     },
     "output_type": "display_data"
    }
   ],
   "source": [
    "modeling_df.groupby('merchantCategoryCode')['isFraud'].mean().plot.bar()"
   ]
  },
  {
   "cell_type": "markdown",
   "metadata": {},
   "source": [
    "- There are definitely levels with potentially to few records to be significant (e.g., gym and cable/phone)\n",
    "- There are also some categories that are clearly more prone to fraud (e.g., airline, online_gifts, oneline_retail, and rideshare)"
   ]
  },
  {
   "cell_type": "markdown",
   "metadata": {},
   "source": [
    "**Identify top 4 fradulent categories**"
   ]
  },
  {
   "cell_type": "code",
   "execution_count": 324,
   "metadata": {},
   "outputs": [
    {
     "data": {
      "text/plain": [
       "['airline', 'rideshare', 'online_retail', 'online_gifts']"
      ]
     },
     "execution_count": 324,
     "metadata": {},
     "output_type": "execute_result"
    }
   ],
   "source": [
    "top_merchants_fraud = modeling_df.groupby('merchantCategoryCode')['isFraud'].mean()\\\n",
    "    .sort_values(ascending = False).index[0:4].to_list()\n",
    "\n",
    "top_merchants_fraud"
   ]
  },
  {
   "cell_type": "markdown",
   "metadata": {},
   "source": [
    "**Identify categories that account for greater than 5% of the transactions**"
   ]
  },
  {
   "cell_type": "code",
   "execution_count": 325,
   "metadata": {},
   "outputs": [
    {
     "data": {
      "text/plain": [
       "<matplotlib.axes._subplots.AxesSubplot at 0x7f9f570fc6d0>"
      ]
     },
     "execution_count": 325,
     "metadata": {},
     "output_type": "execute_result"
    },
    {
     "data": {
      "image/png": "[encoded data removed]",
      "text/plain": [
       "<Figure size 432x288 with 1 Axes>"
      ]
     },
     "metadata": {
      "needs_background": "light"
     },
     "output_type": "display_data"
    }
   ],
   "source": [
    "merchatn_percent = modeling_df.merchantCategoryCode.value_counts(normalize =True)\n",
    "\n",
    "merchatn_percent.plot.bar()"
   ]
  },
  {
   "cell_type": "code",
   "execution_count": 326,
   "metadata": {},
   "outputs": [
    {
     "data": {
      "text/plain": [
       "['online_retail',\n",
       " 'fastfood',\n",
       " 'entertainment',\n",
       " 'food',\n",
       " 'online_gifts',\n",
       " 'rideshare']"
      ]
     },
     "execution_count": 326,
     "metadata": {},
     "output_type": "execute_result"
    }
   ],
   "source": [
    "top_merchants = merchatn_percent[merchatn_percent> .05].index.to_list()\n",
    "top_merchants"
   ]
  },
  {
   "cell_type": "markdown",
   "metadata": {},
   "source": [
    "**Identify list of levels that will be maintained by taking distinct elements between top merchants and top fraud categories**"
   ]
  },
  {
   "cell_type": "code",
   "execution_count": 327,
   "metadata": {},
   "outputs": [
    {
     "data": {
      "text/plain": [
       "{'airline',\n",
       " 'entertainment',\n",
       " 'fastfood',\n",
       " 'food',\n",
       " 'online_gifts',\n",
       " 'online_retail',\n",
       " 'rideshare'}"
      ]
     },
     "execution_count": 327,
     "metadata": {},
     "output_type": "execute_result"
    }
   ],
   "source": [
    "merchant_levels = set(top_merchants_fraud+ top_merchants)\n",
    "merchant_levels"
   ]
  },
  {
   "cell_type": "markdown",
   "metadata": {},
   "source": [
    "Remaining categories will be bucketed into an \"other\" category"
   ]
  },
  {
   "cell_type": "code",
   "execution_count": 328,
   "metadata": {},
   "outputs": [],
   "source": [
    "modeling_df['merchant_feature'] = np.where(modeling_df['merchantCategoryCode'].isin(merchant_levels),\n",
    "                                           modeling_df['merchantCategoryCode'], \"other\")"
   ]
  },
  {
   "cell_type": "code",
   "execution_count": 329,
   "metadata": {},
   "outputs": [],
   "source": [
    "del modeling_df['merchantCategoryCode'] "
   ]
  },
  {
   "cell_type": "markdown",
   "metadata": {},
   "source": [
    "### One-hot-encoding"
   ]
  },
  {
   "cell_type": "code",
   "execution_count": 330,
   "metadata": {},
   "outputs": [
    {
     "data": {
      "text/plain": [
       "Index(['acqCountry', 'merchantCountryCode', 'posEntryMode', 'posConditionCode',\n",
       "       'transactionType', 'transaction_Quarter', 'merchant_feature'],\n",
       "      dtype='object')"
      ]
     },
     "execution_count": 330,
     "metadata": {},
     "output_type": "execute_result"
    }
   ],
   "source": [
    "#update obj_cols\n",
    "obj_cols = modeling_df.select_dtypes(include='object').columns\n",
    "obj_cols"
   ]
  },
  {
   "cell_type": "code",
   "execution_count": 331,
   "metadata": {},
   "outputs": [
    {
     "name": "stdout",
     "output_type": "stream",
     "text": [
      "Converted 7 categorical features into 31 one hot encoded features\n"
     ]
    }
   ],
   "source": [
    "one_hot_df = pd.get_dummies(modeling_df[obj_cols])\n",
    "\n",
    "print(\"Converted {} categorical features into {} one hot encoded features\".format(len(obj_cols), one_hot_df.shape[1]))\n"
   ]
  },
  {
   "cell_type": "markdown",
   "metadata": {},
   "source": [
    "Update modeling dataset"
   ]
  },
  {
   "cell_type": "code",
   "execution_count": 332,
   "metadata": {},
   "outputs": [],
   "source": [
    "modeling_df = pd.concat([modeling_df, one_hot_df], axis=1)\n",
    "modeling_df.drop(obj_cols, axis=1, inplace=True)"
   ]
  },
  {
   "cell_type": "markdown",
   "metadata": {},
   "source": [
    "### Model Building"
   ]
  },
  {
   "cell_type": "markdown",
   "metadata": {},
   "source": [
    "Get final list of features"
   ]
  },
  {
   "cell_type": "code",
   "execution_count": 333,
   "metadata": {},
   "outputs": [
    {
     "data": {
      "text/plain": [
       "60"
      ]
     },
     "execution_count": 333,
     "metadata": {},
     "output_type": "execute_result"
    }
   ],
   "source": [
    "features = [i for i in modeling_df.columns if i != \"isFraud\"]\n",
    "# print(features)\n",
    "len(features)"
   ]
  },
  {
   "cell_type": "markdown",
   "metadata": {},
   "source": [
    "Import libraries"
   ]
  },
  {
   "cell_type": "code",
   "execution_count": 334,
   "metadata": {},
   "outputs": [],
   "source": [
    "from sklearn.model_selection import train_test_split, GridSearchCV\n",
    "from sklearn.ensemble import RandomForestClassifier\n",
    "from sklearn import metrics\n",
    "from imblearn.under_sampling import RandomUnderSampler\n",
    "from imblearn.over_sampling import SMOTENC\n",
    "from imblearn.pipeline import Pipeline"
   ]
  },
  {
   "cell_type": "markdown",
   "metadata": {},
   "source": [
    "Create test hold out set and training set"
   ]
  },
  {
   "cell_type": "code",
   "execution_count": 335,
   "metadata": {},
   "outputs": [],
   "source": [
    "#First split the data into X and y\n",
    "\n",
    "X = modeling_df[features]\n",
    "y = modeling_df['isFraud']\n",
    "\n",
    "#Stratify given the small size of the fraud class\n",
    "X_train, X_test, y_train, y_test = train_test_split(X, y, test_size=0.2, \n",
    "                                                    stratify=y, random_state = SEED) "
   ]
  },
  {
   "cell_type": "code",
   "execution_count": 336,
   "metadata": {},
   "outputs": [
    {
     "data": {
      "text/plain": [
       "0    613354\n",
       "1      9832\n",
       "Name: isFraud, dtype: int64"
      ]
     },
     "execution_count": 336,
     "metadata": {},
     "output_type": "execute_result"
    }
   ],
   "source": [
    "class_size = y_train.value_counts()\n",
    "class_size"
   ]
  },
  {
   "cell_type": "markdown",
   "metadata": {},
   "source": [
    "**Mitigating imbalanced class**"
   ]
  },
  {
   "cell_type": "markdown",
   "metadata": {},
   "source": [
    "To mitigate the impacts of the imbalanced classes, oversampling with a synthetic data approach like SMOTE is preferred. Given the large dataset (700k+ rows) and computing limitations, a strong undersampling approach will be combined with SMOTE ovesampling - combinations of undersampling and SMOTE oversampling have been known to perform well in the literature.\n",
    "\n",
    "- Undersampling - For undersampling, a basic non-computationally intensive random undersampling will be applied. This runs the risk of losing important datapoints but will run faster. Further iterations could explore more sohisticated approaches\n",
    "- Oversampling - SMOTENC is used, a SMOTE (knn) based approach that can handle categorical features"
   ]
  },
  {
   "cell_type": "markdown",
   "metadata": {},
   "source": [
    "Estimate size of training set to get an idea of the workload for a classifier:\n",
    "\n",
    "As a first pass, the approach will be to\n",
    "1. Randomly undersample the majority class using a ratio of #minority/#majority = N\n",
    "2. SMOTE will then be used to oversample the minority class until a balanced class is reached\n",
    "\n",
    "Size of minority class in training set x Percent used for CV x 1/N x 2\n",
    "\n",
    "With N = .5 the estimate training set for a model in each training 5-fold CV iteration is:"
   ]
  },
  {
   "cell_type": "code",
   "execution_count": 337,
   "metadata": {},
   "outputs": [
    {
     "data": {
      "text/plain": [
       "31462.4"
      ]
     },
     "execution_count": 337,
     "metadata": {},
     "output_type": "execute_result"
    }
   ],
   "source": [
    "class_size[1] *.8 *1/.5*2"
   ]
  },
  {
   "cell_type": "markdown",
   "metadata": {},
   "source": [
    "Find binary columns to map accordingly in SMOTENC"
   ]
  },
  {
   "cell_type": "code",
   "execution_count": 338,
   "metadata": {},
   "outputs": [],
   "source": [
    "\n",
    "def get_bin_cols(df, features):\n",
    "    \n",
    "    bin_cols = {}\n",
    "    for idx, val in enumerate(features):\n",
    "\n",
    "        if sorted(df[val].unique()) == [0, 1]:\n",
    "            \n",
    "            bin_cols[idx] = val\n",
    "        \n",
    "    return bin_cols"
   ]
  },
  {
   "cell_type": "code",
   "execution_count": 339,
   "metadata": {},
   "outputs": [],
   "source": [
    "bin_cols = get_bin_cols(X, features)\n"
   ]
  },
  {
   "cell_type": "code",
   "execution_count": 340,
   "metadata": {},
   "outputs": [],
   "source": [
    "undersample = RandomUnderSampler(sampling_strategy = .5, random_state=SEED)\n",
    "smote_nc = SMOTENC(categorical_features=list(bin_cols.keys()), random_state=SEED)"
   ]
  },
  {
   "cell_type": "markdown",
   "metadata": {},
   "source": [
    "**Model Selection**"
   ]
  },
  {
   "cell_type": "markdown",
   "metadata": {},
   "source": [
    "As a model, random forest will be used as it's known to be generally robust to outliers, and good with featuresets that include many categorical features, and also a model that can be parallelized. \n",
    "\n",
    "A Grid search approach will be used where 9 different models will be ran and tested in a CV to tune the random forest."
   ]
  },
  {
   "cell_type": "code",
   "execution_count": 341,
   "metadata": {},
   "outputs": [],
   "source": [
    "rfc = RandomForestClassifier(random_state = SEED)"
   ]
  },
  {
   "cell_type": "code",
   "execution_count": 342,
   "metadata": {},
   "outputs": [],
   "source": [
    "grid_param = {\n",
    "        'classification_rf__n_estimators': [100, 300, 750],    \n",
    "        'classification_rf__max_depth': [5, 8, 10]\n",
    "}"
   ]
  },
  {
   "cell_type": "markdown",
   "metadata": {},
   "source": [
    "**Model Training and Evaluation**"
   ]
  },
  {
   "cell_type": "markdown",
   "metadata": {},
   "source": [
    "To train, select the best model, and evaluate out of sample, the following approach is implemented through imblearn pipeline.\n",
    "\n",
    "1. Break up data into train and test\n",
    "2. With the training set, for each k-fold, split into train and validation\n",
    "3. With each k-fold train split, undersample, oversample, and train the random forest grid-models and validate them in the k-fold validation set in that order\n",
    "4. Identify the best model based on the grid-search across all folds\n",
    "5. Test out of sample on original test (unseen) hold out set"
   ]
  },
  {
   "cell_type": "code",
   "execution_count": 343,
   "metadata": {},
   "outputs": [],
   "source": [
    "model = Pipeline([\n",
    "        ('under_sampling', undersample),\n",
    "        ('over_sampling', smote_nc),\n",
    "        ('classification_rf', rfc)\n",
    "    ])"
   ]
  },
  {
   "cell_type": "code",
   "execution_count": 344,
   "metadata": {},
   "outputs": [
    {
     "name": "stdout",
     "output_type": "stream",
     "text": [
      "Fitting 5 folds for each of 9 candidates, totalling 45 fits\n",
      "16.620679231484733\n"
     ]
    }
   ],
   "source": [
    "start = time.time()\n",
    "\n",
    "#optimizing on f1 due to imbalance\n",
    "grid = GridSearchCV(model, grid_param, verbose = 3, \n",
    "                    cv= 5, n_jobs=5, scoring= 'f1', return_train_score = True) \n",
    "\n",
    "grid.fit(X, y)\n",
    "\n",
    "print((time.time() - start)/60)"
   ]
  },
  {
   "cell_type": "code",
   "execution_count": 345,
   "metadata": {},
   "outputs": [
    {
     "name": "stdout",
     "output_type": "stream",
     "text": [
      "Best model:\n",
      "\n",
      "{'classification_rf__max_depth': 10, 'classification_rf__n_estimators': 300}\n"
     ]
    }
   ],
   "source": [
    "print(\"Best model:\\n\")\n",
    "\n",
    "print(grid.best_params_)"
   ]
  },
  {
   "cell_type": "markdown",
   "metadata": {},
   "source": [
    "**Assess performance on the training set to be able to compare with test set performance**"
   ]
  },
  {
   "cell_type": "code",
   "execution_count": 346,
   "metadata": {},
   "outputs": [],
   "source": [
    "grid_predictions = grid.predict(X_train) "
   ]
  },
  {
   "cell_type": "code",
   "execution_count": 347,
   "metadata": {},
   "outputs": [
    {
     "name": "stdout",
     "output_type": "stream",
     "text": [
      "              precision    recall  f1-score   support\n",
      "\n",
      "           0       0.99      0.78      0.88    613354\n",
      "           1       0.05      0.67      0.09      9832\n",
      "\n",
      "    accuracy                           0.78    623186\n",
      "   macro avg       0.52      0.73      0.48    623186\n",
      "weighted avg       0.98      0.78      0.86    623186\n",
      "\n"
     ]
    }
   ],
   "source": [
    "print(metrics.classification_report(y_train,grid_predictions))"
   ]
  },
  {
   "cell_type": "code",
   "execution_count": 348,
   "metadata": {},
   "outputs": [],
   "source": [
    "grid_predictions = grid.predict(X_test) "
   ]
  },
  {
   "cell_type": "markdown",
   "metadata": {},
   "source": [
    "**Assess performance on the hold out set**"
   ]
  },
  {
   "cell_type": "code",
   "execution_count": 349,
   "metadata": {},
   "outputs": [
    {
     "name": "stdout",
     "output_type": "stream",
     "text": [
      "              precision    recall  f1-score   support\n",
      "\n",
      "           0       0.99      0.78      0.87    153339\n",
      "           1       0.05      0.65      0.08      2458\n",
      "\n",
      "    accuracy                           0.78    155797\n",
      "   macro avg       0.52      0.71      0.48    155797\n",
      "weighted avg       0.98      0.78      0.86    155797\n",
      "\n"
     ]
    }
   ],
   "source": [
    "print(metrics.classification_report(y_test,grid_predictions))"
   ]
  },
  {
   "cell_type": "code",
   "execution_count": 350,
   "metadata": {},
   "outputs": [
    {
     "name": "stdout",
     "output_type": "stream",
     "text": [
      "There were 35074 fraud predictions out of 155797 total predictions\n"
     ]
    }
   ],
   "source": [
    "print(\"There were {} fraud predictions out of {} total predictions\".format(\n",
    "    sum(grid_predictions), len(grid_predictions)))"
   ]
  },
  {
   "cell_type": "code",
   "execution_count": 351,
   "metadata": {},
   "outputs": [
    {
     "data": {
      "text/plain": [
       "<sklearn.metrics._plot.confusion_matrix.ConfusionMatrixDisplay at 0x7f9f83694090>"
      ]
     },
     "execution_count": 351,
     "metadata": {},
     "output_type": "execute_result"
    },
    {
     "data": {
      "image/png": "[encoded data removed]",
      "text/plain": [
       "<Figure size 432x288 with 2 Axes>"
      ]
     },
     "metadata": {
      "needs_background": "light"
     },
     "output_type": "display_data"
    }
   ],
   "source": [
    "metrics.plot_confusion_matrix(grid.best_estimator_, X_test, y_test, values_format = '.0f')"
   ]
  },
  {
   "cell_type": "markdown",
   "metadata": {},
   "source": [
    "- Performance on test set is only slightly worse than on the training set which indicates no large overfitting is present \n",
    "- While the precision of this model is very low (.05) which means that a lot of transactions are being labeled as fraud incorrectly, recall (.65) is picking up signal\n",
    "- For this fraud detection problem, recall is likely the most important metric as even though it can be intrusive to flag so many wrong transactions as fradulent, customers are likely a lot more prone to take their business elsewhere due to fraud.\n",
    "- This Model is not good overall, but if there was nothing else in place, a low precision, high recall model could be implemented in conjunction with SMS verification sent to suspect customers"
   ]
  },
  {
   "cell_type": "markdown",
   "metadata": {},
   "source": [
    "### Feature Importance"
   ]
  },
  {
   "cell_type": "code",
   "execution_count": 352,
   "metadata": {},
   "outputs": [
    {
     "data": {
      "image/png": "[encoded data removed]",
      "text/plain": [
       "<Figure size 432x288 with 1 Axes>"
      ]
     },
     "metadata": {
      "needs_background": "light"
     },
     "output_type": "display_data"
    }
   ],
   "source": [
    "importance = grid.best_estimator_[2].feature_importances_\n",
    "\n",
    "feature_importance = {}\n",
    "# summarize feature importance\n",
    "for i,v in enumerate(importance):\n",
    "\n",
    "    feature_importance[features[i]] = v\n",
    "\n",
    "# plot feature importance\n",
    "plt.bar([x for x in range(len(importance))], importance)\n",
    "plt.show()"
   ]
  },
  {
   "cell_type": "code",
   "execution_count": 353,
   "metadata": {},
   "outputs": [
    {
     "name": "stdout",
     "output_type": "stream",
     "text": [
      "Most important features:\n",
      "\n"
     ]
    },
    {
     "data": {
      "text/plain": [
       "[('posEntryMode_05', 0.13803845243906998),\n",
       " ('transactionAmount', 0.0955163288055044),\n",
       " ('merchant_feature_other', 0.09209479621954515),\n",
       " ('cardPresent', 0.07503494943269326),\n",
       " ('ma_20', 0.05497415112652977),\n",
       " ('prior_transtot_pday', 0.050443893283350846),\n",
       " ('ma_40', 0.047307973425484914),\n",
       " ('ma_80', 0.0365404922364079),\n",
       " ('ma_5', 0.034028852416460344),\n",
       " ('merchant_feature_fastfood', 0.024136133911514732),\n",
       " ('prior_transtot_pweek', 0.022095275932322498),\n",
       " ('ma_2', 0.019951535318393252),\n",
       " ('posConditionCode_08', 0.018918262777335385),\n",
       " ('hour_cos', 0.018683258674980018),\n",
       " ('posEntryMode_09', 0.017425767718748382),\n",
       " ('posEntryMode_02', 0.01627658361991877),\n",
       " ('prior_transtot_pmonth', 0.016146481255942192),\n",
       " ('days_sinceOpenAcc', 0.014880742869986481),\n",
       " ('currentBalance', 0.014330629003797987),\n",
       " ('time_from_last_ma_5', 0.01375365451882422)]"
      ]
     },
     "execution_count": 353,
     "metadata": {},
     "output_type": "execute_result"
    }
   ],
   "source": [
    "print(\"Most important features:\\n\")\n",
    "sorted(feature_importance.items(), key=lambda x: x[1], reverse=True)[0:20]"
   ]
  },
  {
   "cell_type": "markdown",
   "metadata": {},
   "source": [
    "### Potential Future Improvements\n",
    "\n",
    "- Data subset/labels:\n",
    "    - Subset the data (or include more data) such that running totals, maving averages, etc, can be computed with earlier records\n",
    "    - Understand the meaning of the label, why there is a downtrending fraud over time\n",
    "- Data pre-processing:\n",
    "    - Investigate outliers and thier effect on modeling. Adjust as needed using statistical techniques such as winsorization\n",
    "    - Random forest does not require feature standardization or scaling but it could benefit it as well as make the data model-ready for other modeling approaches\n",
    "    - Impute missing values using a supervised approach such as MICE or Knn\n",
    "- Feature engineering:\n",
    "    - Revisit heuristics to engineer features such as defining the number of buckets to truncate merchant code into, or encoding approach\n",
    "    - Thorough and comprehensive data analysis that identifies strong and weak features for model\n",
    "    - Incorporate more features from existing data such as day of week, running totals of transaction amounts by quarter, etc\n",
    "    - Investigate fradulent trends and common schemes to engineer features that may capture them (network/graph type patterns)\n",
    "- Sampling:\n",
    "    - Tune sampling approach - as premitted by computing resources, test different sampling ratios, and approaches\n",
    "- Model: \n",
    "    - Experiment with other approaches such as xgboost and deep learning-based as computing resources permit\n",
    "    - More thourough hyperparameter tuning - use bayesian optimization if resources permit\n",
    "    - Experimenting with different class weights using different models could be another way to tackle the imbalanced problem\n",
    "    "
   ]
  }
 ],
 "metadata": {
  "kernelspec": {
   "display_name": "Python 3",
   "language": "python",
   "name": "python3"
  },
  "language_info": {
   "codemirror_mode": {
    "name": "ipython",
    "version": 3
   },
   "file_extension": ".py",
   "mimetype": "text/x-python",
   "name": "python",
   "nbconvert_exporter": "python",
   "pygments_lexer": "ipython3",
   "version": "3.7.7"
  }
 },
 "nbformat": 4,
 "nbformat_minor": 4
}
